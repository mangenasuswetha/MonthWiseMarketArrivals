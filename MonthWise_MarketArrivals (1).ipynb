{
 "cells": [
  {
   "cell_type": "markdown",
   "id": "0db7a891",
   "metadata": {},
   "source": [
    "# MonthWise Market Arrivals"
   ]
  },
  {
   "cell_type": "markdown",
   "id": "adb59d9d",
   "metadata": {},
   "source": [
    "# Importing The Libraries"
   ]
  },
  {
   "cell_type": "code",
   "execution_count": 58,
   "id": "b23d44de",
   "metadata": {},
   "outputs": [],
   "source": [
    "import pandas as pd\n",
    "import numpy as np\n",
    "import seaborn as sns\n",
    "from scipy import stats\n",
    "import matplotlib.pyplot as plt\n",
    "from scipy.stats import pearsonr\n",
    "from sklearn.model_selection import train_test_split\n",
    "from sklearn.preprocessing import MinMaxScaler\n",
    "from sklearn.linear_model import LinearRegression\n",
    "from sklearn.linear_model import LogisticRegression\n",
    "from sklearn.tree import DecisionTreeRegressor\n",
    "from sklearn.tree import DecisionTreeClassifier\n",
    "from sklearn.ensemble import RandomForestRegressor\n",
    "from sklearn.ensemble import RandomForestClassifier\n",
    "from sklearn.ensemble import GradientBoostingRegressor\n",
    "from sklearn.ensemble import GradientBoostingClassifier\n",
    "from sklearn.ensemble import AdaBoostRegressor\n",
    "from sklearn.ensemble import AdaBoostClassifier\n",
    "from sklearn.metrics import mean_squared_error\n",
    "from sklearn.metrics import accuracy_score\n",
    "from sklearn.metrics import r2_score\n",
    "import statsmodels.api as sm\n",
    "import statsmodels.formula.api as smf\n",
    "from statsmodels.tsa.stattools import adfuller\n",
    "%matplotlib inline"
   ]
  },
  {
   "cell_type": "code",
   "execution_count": 59,
   "id": "7c086b5d",
   "metadata": {},
   "outputs": [],
   "source": [
    "import pandas as pd\n",
    "import numpy as np\n",
    "import matplotlib.pyplot as plt\n",
    "%matplotlib inline\n",
    "\n",
    "import seaborn as sns\n",
    "\n",
    "import warnings\n",
    "warnings.filterwarnings('ignore')"
   ]
  },
  {
   "cell_type": "markdown",
   "id": "b1621343",
   "metadata": {},
   "source": [
    "# Importing The Dataset"
   ]
  },
  {
   "cell_type": "code",
   "execution_count": 3,
   "id": "9c8548e8",
   "metadata": {},
   "outputs": [],
   "source": [
    "data = pd.read_csv(\"C:/Users/chandu/Downloads/Paper1/MonthWiseMarketArrivals_Clean.csv\",header=None)"
   ]
  },
  {
   "cell_type": "markdown",
   "id": "ec8ccf2a",
   "metadata": {},
   "source": [
    "# Featuring The Data"
   ]
  },
  {
   "cell_type": "code",
   "execution_count": 4,
   "id": "c24396f9",
   "metadata": {},
   "outputs": [
    {
     "data": {
      "text/plain": [
       "Int64Index([0, 1, 2, 3, 4, 5, 6, 7, 8, 9], dtype='int64')"
      ]
     },
     "execution_count": 4,
     "metadata": {},
     "output_type": "execute_result"
    }
   ],
   "source": [
    "data.columns"
   ]
  },
  {
   "cell_type": "code",
   "execution_count": 5,
   "id": "92543c72",
   "metadata": {},
   "outputs": [
    {
     "data": {
      "text/html": [
       "<div>\n",
       "<style scoped>\n",
       "    .dataframe tbody tr th:only-of-type {\n",
       "        vertical-align: middle;\n",
       "    }\n",
       "\n",
       "    .dataframe tbody tr th {\n",
       "        vertical-align: top;\n",
       "    }\n",
       "\n",
       "    .dataframe thead th {\n",
       "        text-align: right;\n",
       "    }\n",
       "</style>\n",
       "<table border=\"1\" class=\"dataframe\">\n",
       "  <thead>\n",
       "    <tr style=\"text-align: right;\">\n",
       "      <th></th>\n",
       "      <th>0</th>\n",
       "      <th>1</th>\n",
       "      <th>2</th>\n",
       "      <th>3</th>\n",
       "      <th>4</th>\n",
       "      <th>5</th>\n",
       "      <th>6</th>\n",
       "      <th>7</th>\n",
       "      <th>8</th>\n",
       "      <th>9</th>\n",
       "    </tr>\n",
       "  </thead>\n",
       "  <tbody>\n",
       "    <tr>\n",
       "      <th>0</th>\n",
       "      <td>market</td>\n",
       "      <td>month</td>\n",
       "      <td>year</td>\n",
       "      <td>quantity</td>\n",
       "      <td>priceMin</td>\n",
       "      <td>priceMax</td>\n",
       "      <td>priceMod</td>\n",
       "      <td>state</td>\n",
       "      <td>city</td>\n",
       "      <td>date</td>\n",
       "    </tr>\n",
       "    <tr>\n",
       "      <th>1</th>\n",
       "      <td>ABOHAR(PB)</td>\n",
       "      <td>January</td>\n",
       "      <td>2005</td>\n",
       "      <td>2350</td>\n",
       "      <td>404</td>\n",
       "      <td>493</td>\n",
       "      <td>446</td>\n",
       "      <td>PB</td>\n",
       "      <td>ABOHAR</td>\n",
       "      <td>January-2005</td>\n",
       "    </tr>\n",
       "    <tr>\n",
       "      <th>2</th>\n",
       "      <td>ABOHAR(PB)</td>\n",
       "      <td>January</td>\n",
       "      <td>2006</td>\n",
       "      <td>900</td>\n",
       "      <td>487</td>\n",
       "      <td>638</td>\n",
       "      <td>563</td>\n",
       "      <td>PB</td>\n",
       "      <td>ABOHAR</td>\n",
       "      <td>January-2006</td>\n",
       "    </tr>\n",
       "    <tr>\n",
       "      <th>3</th>\n",
       "      <td>ABOHAR(PB)</td>\n",
       "      <td>January</td>\n",
       "      <td>2010</td>\n",
       "      <td>790</td>\n",
       "      <td>1283</td>\n",
       "      <td>1592</td>\n",
       "      <td>1460</td>\n",
       "      <td>PB</td>\n",
       "      <td>ABOHAR</td>\n",
       "      <td>January-2010</td>\n",
       "    </tr>\n",
       "    <tr>\n",
       "      <th>4</th>\n",
       "      <td>ABOHAR(PB)</td>\n",
       "      <td>January</td>\n",
       "      <td>2011</td>\n",
       "      <td>245</td>\n",
       "      <td>3067</td>\n",
       "      <td>3750</td>\n",
       "      <td>3433</td>\n",
       "      <td>PB</td>\n",
       "      <td>ABOHAR</td>\n",
       "      <td>January-2011</td>\n",
       "    </tr>\n",
       "  </tbody>\n",
       "</table>\n",
       "</div>"
      ],
      "text/plain": [
       "            0        1     2         3         4         5         6      7  \\\n",
       "0      market    month  year  quantity  priceMin  priceMax  priceMod  state   \n",
       "1  ABOHAR(PB)  January  2005      2350       404       493       446     PB   \n",
       "2  ABOHAR(PB)  January  2006       900       487       638       563     PB   \n",
       "3  ABOHAR(PB)  January  2010       790      1283      1592      1460     PB   \n",
       "4  ABOHAR(PB)  January  2011       245      3067      3750      3433     PB   \n",
       "\n",
       "        8             9  \n",
       "0    city          date  \n",
       "1  ABOHAR  January-2005  \n",
       "2  ABOHAR  January-2006  \n",
       "3  ABOHAR  January-2010  \n",
       "4  ABOHAR  January-2011  "
      ]
     },
     "execution_count": 5,
     "metadata": {},
     "output_type": "execute_result"
    }
   ],
   "source": [
    "data.head()"
   ]
  },
  {
   "cell_type": "code",
   "execution_count": 6,
   "id": "7f761753",
   "metadata": {},
   "outputs": [],
   "source": [
    "data = pd.read_csv(\"C:/Users/chandu/Downloads/Paper1/MonthWiseMarketArrivals_Clean.csv\",header=0)"
   ]
  },
  {
   "cell_type": "code",
   "execution_count": 7,
   "id": "762ad0fa",
   "metadata": {},
   "outputs": [
    {
     "data": {
      "text/html": [
       "<div>\n",
       "<style scoped>\n",
       "    .dataframe tbody tr th:only-of-type {\n",
       "        vertical-align: middle;\n",
       "    }\n",
       "\n",
       "    .dataframe tbody tr th {\n",
       "        vertical-align: top;\n",
       "    }\n",
       "\n",
       "    .dataframe thead th {\n",
       "        text-align: right;\n",
       "    }\n",
       "</style>\n",
       "<table border=\"1\" class=\"dataframe\">\n",
       "  <thead>\n",
       "    <tr style=\"text-align: right;\">\n",
       "      <th></th>\n",
       "      <th>market</th>\n",
       "      <th>month</th>\n",
       "      <th>year</th>\n",
       "      <th>quantity</th>\n",
       "      <th>priceMin</th>\n",
       "      <th>priceMax</th>\n",
       "      <th>priceMod</th>\n",
       "      <th>state</th>\n",
       "      <th>city</th>\n",
       "      <th>date</th>\n",
       "    </tr>\n",
       "  </thead>\n",
       "  <tbody>\n",
       "    <tr>\n",
       "      <th>0</th>\n",
       "      <td>ABOHAR(PB)</td>\n",
       "      <td>January</td>\n",
       "      <td>2005</td>\n",
       "      <td>2350</td>\n",
       "      <td>404</td>\n",
       "      <td>493</td>\n",
       "      <td>446</td>\n",
       "      <td>PB</td>\n",
       "      <td>ABOHAR</td>\n",
       "      <td>January-2005</td>\n",
       "    </tr>\n",
       "    <tr>\n",
       "      <th>1</th>\n",
       "      <td>ABOHAR(PB)</td>\n",
       "      <td>January</td>\n",
       "      <td>2006</td>\n",
       "      <td>900</td>\n",
       "      <td>487</td>\n",
       "      <td>638</td>\n",
       "      <td>563</td>\n",
       "      <td>PB</td>\n",
       "      <td>ABOHAR</td>\n",
       "      <td>January-2006</td>\n",
       "    </tr>\n",
       "    <tr>\n",
       "      <th>2</th>\n",
       "      <td>ABOHAR(PB)</td>\n",
       "      <td>January</td>\n",
       "      <td>2010</td>\n",
       "      <td>790</td>\n",
       "      <td>1283</td>\n",
       "      <td>1592</td>\n",
       "      <td>1460</td>\n",
       "      <td>PB</td>\n",
       "      <td>ABOHAR</td>\n",
       "      <td>January-2010</td>\n",
       "    </tr>\n",
       "    <tr>\n",
       "      <th>3</th>\n",
       "      <td>ABOHAR(PB)</td>\n",
       "      <td>January</td>\n",
       "      <td>2011</td>\n",
       "      <td>245</td>\n",
       "      <td>3067</td>\n",
       "      <td>3750</td>\n",
       "      <td>3433</td>\n",
       "      <td>PB</td>\n",
       "      <td>ABOHAR</td>\n",
       "      <td>January-2011</td>\n",
       "    </tr>\n",
       "    <tr>\n",
       "      <th>4</th>\n",
       "      <td>ABOHAR(PB)</td>\n",
       "      <td>January</td>\n",
       "      <td>2012</td>\n",
       "      <td>1035</td>\n",
       "      <td>523</td>\n",
       "      <td>686</td>\n",
       "      <td>605</td>\n",
       "      <td>PB</td>\n",
       "      <td>ABOHAR</td>\n",
       "      <td>January-2012</td>\n",
       "    </tr>\n",
       "  </tbody>\n",
       "</table>\n",
       "</div>"
      ],
      "text/plain": [
       "       market    month  year  quantity  priceMin  priceMax  priceMod state  \\\n",
       "0  ABOHAR(PB)  January  2005      2350       404       493       446    PB   \n",
       "1  ABOHAR(PB)  January  2006       900       487       638       563    PB   \n",
       "2  ABOHAR(PB)  January  2010       790      1283      1592      1460    PB   \n",
       "3  ABOHAR(PB)  January  2011       245      3067      3750      3433    PB   \n",
       "4  ABOHAR(PB)  January  2012      1035       523       686       605    PB   \n",
       "\n",
       "     city          date  \n",
       "0  ABOHAR  January-2005  \n",
       "1  ABOHAR  January-2006  \n",
       "2  ABOHAR  January-2010  \n",
       "3  ABOHAR  January-2011  \n",
       "4  ABOHAR  January-2012  "
      ]
     },
     "execution_count": 7,
     "metadata": {},
     "output_type": "execute_result"
    }
   ],
   "source": [
    "data.head()"
   ]
  },
  {
   "cell_type": "code",
   "execution_count": 8,
   "id": "4f9046f6",
   "metadata": {},
   "outputs": [],
   "source": [
    "df = data"
   ]
  },
  {
   "cell_type": "code",
   "execution_count": 9,
   "id": "083f7d51",
   "metadata": {},
   "outputs": [
    {
     "data": {
      "text/plain": [
       "(10227, 10)"
      ]
     },
     "execution_count": 9,
     "metadata": {},
     "output_type": "execute_result"
    }
   ],
   "source": [
    "df.shape"
   ]
  },
  {
   "cell_type": "code",
   "execution_count": 10,
   "id": "436c41be",
   "metadata": {},
   "outputs": [
    {
     "data": {
      "text/plain": [
       "array(['ABOHAR(PB)', 'AGRA(UP)', 'AHMEDABAD(GUJ)', 'AHMEDNAGAR(MS)',\n",
       "       'AJMER(RAJ)', 'ALIGARH(UP)', 'ALWAR(RAJ)', 'AMRITSAR(PB)',\n",
       "       'BALLIA(UP)', 'BANGALORE', 'BAREILLY(UP)', 'BELGAUM(KNT)',\n",
       "       'BHATINDA(PB)', 'BHAVNAGAR(GUJ)', 'BHOPAL', 'BHUBNESWER(OR)',\n",
       "       'BIHARSHARIF(BHR)', 'BIJAPUR(KNT)', 'BIKANER(RAJ)', 'BOMBORI(MS)',\n",
       "       'BURDWAN(WB)', 'CHAKAN(MS)', 'CHALLAKERE(KNT)', 'CHANDIGARH',\n",
       "       'CHANDVAD(MS)', 'CHENNAI', 'CHICKBALLAPUR(KNT)',\n",
       "       'COIMBATORE(TN) (bellary)', 'COIMBATORE(TN) (podisu)',\n",
       "       'DEESA(GUJ)', 'DEHRADOON(UTT)', 'DELHI', 'DEORIA(UP)',\n",
       "       'DEVALA(MS)', 'DEWAS(MP)', 'DHAVANGERE(KNT)', 'DHULIA(MS)',\n",
       "       'DINDIGUL(TN)', 'DINDIGUL(TN)(Podis', 'DINDORI(MS)', 'ETAWAH(UP)',\n",
       "       'GONDAL(GUJ)', 'GORAKHPUR(UP)', 'GUWAHATI', 'HALDWANI(UTT)',\n",
       "       'HASSAN(KNT)', 'HOSHIARPUR(PB)', 'HUBLI(KNT)', 'HYDERABAD',\n",
       "       'INDORE(MP)', 'JAIPUR', 'JALANDHAR(PB)', 'JALGAON(MS)',\n",
       "       'JALGAON(WHITE)', 'JAMMU', 'JAMNAGAR(GUJ)', 'JODHPUR(RAJ)',\n",
       "       'JUNNAR(MS)', 'KALVAN(MS)', 'KANPUR(UP)', 'KARNAL(HR)',\n",
       "       'KHANNA(PB)', 'KOLAR(KNT)', 'KOLHAPUR(MS)', 'KOLKATA',\n",
       "       'KOPERGAON(MS)', 'KOTA(RAJ)', 'KURNOOL(AP)', 'LASALGAON(MS)',\n",
       "       'LONAND(MS)', 'LUCKNOW', 'LUDHIANA(PB)', 'MADURAI(TN)',\n",
       "       'MAHUVA(GUJ)', 'MALEGAON(MS)', 'MANDSOUR(MP)', 'MANMAD(MS)',\n",
       "       'MEERUT(UP)', 'MIDNAPUR(WB)', 'MUMBAI', 'NAGPUR', 'NANDGAON(MS)',\n",
       "       'NASIK(MS)', 'NEEMUCH(MP)', 'NEWASA(MS)', 'NIPHAD(MS)',\n",
       "       'PALAYAM(KER)', 'PATIALA(PB)', 'PATNA', 'PHALTAN (MS)',\n",
       "       'PIMPALGAON(MS)', 'PUNE(MS)', 'PURULIA(WB)', 'RAHATA(MS)',\n",
       "       'RAHURI(MS)', 'RAICHUR(KNT)', 'RAIPUR(CHGARH)', 'RAJAHMUNDRY(AP)',\n",
       "       'RAJKOT(GUJ)', 'RANCHI(JH)', 'SAGAR(MP)', 'SAIKHEDA(MS)',\n",
       "       'SANGALI(MS)', 'SANGAMNER(MS)', 'SATANA(MS)', 'SHEROAPHULY(WB)',\n",
       "       'SHIMLA', 'SHRIRAMPUR(MS)', 'SINNAR(MS)', 'SOLAPUR(MS)',\n",
       "       'SRIGANGANAGAR(RAJ)', 'SRINAGAR', 'SRIRAMPUR(MS)', 'SURAT(GUJ)',\n",
       "       'TRIVENDRUM', 'UDAIPUR(RAJ)', 'UJJAIN(MP)', 'VANI(MS)',\n",
       "       'VARANASI(UP)', 'YEOLA(MS)'], dtype=object)"
      ]
     },
     "execution_count": 10,
     "metadata": {},
     "output_type": "execute_result"
    }
   ],
   "source": [
    "pd.unique(df['market'])"
   ]
  },
  {
   "cell_type": "markdown",
   "id": "6532aada",
   "metadata": {},
   "source": [
    "# Performing EDA"
   ]
  },
  {
   "cell_type": "code",
   "execution_count": 11,
   "id": "223fe34e",
   "metadata": {},
   "outputs": [
    {
     "data": {
      "text/plain": [
       "market      0\n",
       "month       0\n",
       "year        0\n",
       "quantity    0\n",
       "priceMin    0\n",
       "priceMax    0\n",
       "priceMod    0\n",
       "state       0\n",
       "city        0\n",
       "date        0\n",
       "dtype: int64"
      ]
     },
     "execution_count": 11,
     "metadata": {},
     "output_type": "execute_result"
    }
   ],
   "source": [
    "df.isna().sum()"
   ]
  },
  {
   "cell_type": "code",
   "execution_count": 12,
   "id": "1803fc00",
   "metadata": {},
   "outputs": [],
   "source": [
    "df.dropna(inplace = True)"
   ]
  },
  {
   "cell_type": "code",
   "execution_count": 13,
   "id": "78bb7d94",
   "metadata": {},
   "outputs": [
    {
     "data": {
      "text/html": [
       "<div>\n",
       "<style scoped>\n",
       "    .dataframe tbody tr th:only-of-type {\n",
       "        vertical-align: middle;\n",
       "    }\n",
       "\n",
       "    .dataframe tbody tr th {\n",
       "        vertical-align: top;\n",
       "    }\n",
       "\n",
       "    .dataframe thead th {\n",
       "        text-align: right;\n",
       "    }\n",
       "</style>\n",
       "<table border=\"1\" class=\"dataframe\">\n",
       "  <thead>\n",
       "    <tr style=\"text-align: right;\">\n",
       "      <th></th>\n",
       "      <th>market</th>\n",
       "      <th>month</th>\n",
       "      <th>year</th>\n",
       "      <th>quantity</th>\n",
       "      <th>priceMin</th>\n",
       "      <th>priceMax</th>\n",
       "      <th>priceMod</th>\n",
       "    </tr>\n",
       "  </thead>\n",
       "  <tbody>\n",
       "    <tr>\n",
       "      <th>0</th>\n",
       "      <td>ABOHAR(PB)</td>\n",
       "      <td>January</td>\n",
       "      <td>2005</td>\n",
       "      <td>2350</td>\n",
       "      <td>404</td>\n",
       "      <td>493</td>\n",
       "      <td>446</td>\n",
       "    </tr>\n",
       "    <tr>\n",
       "      <th>1</th>\n",
       "      <td>ABOHAR(PB)</td>\n",
       "      <td>January</td>\n",
       "      <td>2006</td>\n",
       "      <td>900</td>\n",
       "      <td>487</td>\n",
       "      <td>638</td>\n",
       "      <td>563</td>\n",
       "    </tr>\n",
       "    <tr>\n",
       "      <th>2</th>\n",
       "      <td>ABOHAR(PB)</td>\n",
       "      <td>January</td>\n",
       "      <td>2010</td>\n",
       "      <td>790</td>\n",
       "      <td>1283</td>\n",
       "      <td>1592</td>\n",
       "      <td>1460</td>\n",
       "    </tr>\n",
       "    <tr>\n",
       "      <th>3</th>\n",
       "      <td>ABOHAR(PB)</td>\n",
       "      <td>January</td>\n",
       "      <td>2011</td>\n",
       "      <td>245</td>\n",
       "      <td>3067</td>\n",
       "      <td>3750</td>\n",
       "      <td>3433</td>\n",
       "    </tr>\n",
       "    <tr>\n",
       "      <th>4</th>\n",
       "      <td>ABOHAR(PB)</td>\n",
       "      <td>January</td>\n",
       "      <td>2012</td>\n",
       "      <td>1035</td>\n",
       "      <td>523</td>\n",
       "      <td>686</td>\n",
       "      <td>605</td>\n",
       "    </tr>\n",
       "    <tr>\n",
       "      <th>...</th>\n",
       "      <td>...</td>\n",
       "      <td>...</td>\n",
       "      <td>...</td>\n",
       "      <td>...</td>\n",
       "      <td>...</td>\n",
       "      <td>...</td>\n",
       "      <td>...</td>\n",
       "    </tr>\n",
       "    <tr>\n",
       "      <th>10222</th>\n",
       "      <td>YEOLA(MS)</td>\n",
       "      <td>December</td>\n",
       "      <td>2011</td>\n",
       "      <td>131326</td>\n",
       "      <td>282</td>\n",
       "      <td>612</td>\n",
       "      <td>526</td>\n",
       "    </tr>\n",
       "    <tr>\n",
       "      <th>10223</th>\n",
       "      <td>YEOLA(MS)</td>\n",
       "      <td>December</td>\n",
       "      <td>2012</td>\n",
       "      <td>207066</td>\n",
       "      <td>485</td>\n",
       "      <td>1327</td>\n",
       "      <td>1136</td>\n",
       "    </tr>\n",
       "    <tr>\n",
       "      <th>10224</th>\n",
       "      <td>YEOLA(MS)</td>\n",
       "      <td>December</td>\n",
       "      <td>2013</td>\n",
       "      <td>215883</td>\n",
       "      <td>472</td>\n",
       "      <td>1427</td>\n",
       "      <td>1177</td>\n",
       "    </tr>\n",
       "    <tr>\n",
       "      <th>10225</th>\n",
       "      <td>YEOLA(MS)</td>\n",
       "      <td>December</td>\n",
       "      <td>2014</td>\n",
       "      <td>201077</td>\n",
       "      <td>446</td>\n",
       "      <td>1654</td>\n",
       "      <td>1456</td>\n",
       "    </tr>\n",
       "    <tr>\n",
       "      <th>10226</th>\n",
       "      <td>YEOLA(MS)</td>\n",
       "      <td>December</td>\n",
       "      <td>2015</td>\n",
       "      <td>223315</td>\n",
       "      <td>609</td>\n",
       "      <td>1446</td>\n",
       "      <td>1126</td>\n",
       "    </tr>\n",
       "  </tbody>\n",
       "</table>\n",
       "<p>10227 rows × 7 columns</p>\n",
       "</div>"
      ],
      "text/plain": [
       "           market     month  year  quantity  priceMin  priceMax  priceMod\n",
       "0      ABOHAR(PB)   January  2005      2350       404       493       446\n",
       "1      ABOHAR(PB)   January  2006       900       487       638       563\n",
       "2      ABOHAR(PB)   January  2010       790      1283      1592      1460\n",
       "3      ABOHAR(PB)   January  2011       245      3067      3750      3433\n",
       "4      ABOHAR(PB)   January  2012      1035       523       686       605\n",
       "...           ...       ...   ...       ...       ...       ...       ...\n",
       "10222   YEOLA(MS)  December  2011    131326       282       612       526\n",
       "10223   YEOLA(MS)  December  2012    207066       485      1327      1136\n",
       "10224   YEOLA(MS)  December  2013    215883       472      1427      1177\n",
       "10225   YEOLA(MS)  December  2014    201077       446      1654      1456\n",
       "10226   YEOLA(MS)  December  2015    223315       609      1446      1126\n",
       "\n",
       "[10227 rows x 7 columns]"
      ]
     },
     "execution_count": 13,
     "metadata": {},
     "output_type": "execute_result"
    }
   ],
   "source": [
    "df.drop(['state','city','date'], axis = 1)"
   ]
  },
  {
   "cell_type": "code",
   "execution_count": 14,
   "id": "6c22ce79",
   "metadata": {},
   "outputs": [
    {
     "data": {
      "text/plain": [
       "market      object\n",
       "month       object\n",
       "year         int64\n",
       "quantity     int64\n",
       "priceMin     int64\n",
       "priceMax     int64\n",
       "priceMod     int64\n",
       "state       object\n",
       "city        object\n",
       "date        object\n",
       "dtype: object"
      ]
     },
     "execution_count": 14,
     "metadata": {},
     "output_type": "execute_result"
    }
   ],
   "source": [
    "df.dtypes"
   ]
  },
  {
   "cell_type": "code",
   "execution_count": 15,
   "id": "4a1e0838",
   "metadata": {},
   "outputs": [],
   "source": [
    "df.iloc[:,2:7] = df.iloc[:,2:7].astype(int)"
   ]
  },
  {
   "cell_type": "code",
   "execution_count": 16,
   "id": "38b0ffa4",
   "metadata": {},
   "outputs": [
    {
     "data": {
      "text/plain": [
       "market      object\n",
       "month       object\n",
       "year         int32\n",
       "quantity     int32\n",
       "priceMin     int32\n",
       "priceMax     int32\n",
       "priceMod     int32\n",
       "state       object\n",
       "city        object\n",
       "date        object\n",
       "dtype: object"
      ]
     },
     "execution_count": 16,
     "metadata": {},
     "output_type": "execute_result"
    }
   ],
   "source": [
    "df.dtypes"
   ]
  },
  {
   "cell_type": "code",
   "execution_count": 17,
   "id": "24a26b97",
   "metadata": {},
   "outputs": [
    {
     "data": {
      "text/html": [
       "<div>\n",
       "<style scoped>\n",
       "    .dataframe tbody tr th:only-of-type {\n",
       "        vertical-align: middle;\n",
       "    }\n",
       "\n",
       "    .dataframe tbody tr th {\n",
       "        vertical-align: top;\n",
       "    }\n",
       "\n",
       "    .dataframe thead th {\n",
       "        text-align: right;\n",
       "    }\n",
       "</style>\n",
       "<table border=\"1\" class=\"dataframe\">\n",
       "  <thead>\n",
       "    <tr style=\"text-align: right;\">\n",
       "      <th></th>\n",
       "      <th>year</th>\n",
       "      <th>quantity</th>\n",
       "      <th>priceMin</th>\n",
       "      <th>priceMax</th>\n",
       "      <th>priceMod</th>\n",
       "    </tr>\n",
       "  </thead>\n",
       "  <tbody>\n",
       "    <tr>\n",
       "      <th>count</th>\n",
       "      <td>10227.000000</td>\n",
       "      <td>1.022700e+04</td>\n",
       "      <td>10227.000000</td>\n",
       "      <td>10227.000000</td>\n",
       "      <td>10227.000000</td>\n",
       "    </tr>\n",
       "    <tr>\n",
       "      <th>mean</th>\n",
       "      <td>2009.022294</td>\n",
       "      <td>7.660488e+04</td>\n",
       "      <td>646.944363</td>\n",
       "      <td>1212.760731</td>\n",
       "      <td>984.284345</td>\n",
       "    </tr>\n",
       "    <tr>\n",
       "      <th>std</th>\n",
       "      <td>4.372841</td>\n",
       "      <td>1.244087e+05</td>\n",
       "      <td>673.121850</td>\n",
       "      <td>979.658874</td>\n",
       "      <td>818.471498</td>\n",
       "    </tr>\n",
       "    <tr>\n",
       "      <th>min</th>\n",
       "      <td>1996.000000</td>\n",
       "      <td>2.000000e+01</td>\n",
       "      <td>16.000000</td>\n",
       "      <td>145.000000</td>\n",
       "      <td>80.000000</td>\n",
       "    </tr>\n",
       "    <tr>\n",
       "      <th>25%</th>\n",
       "      <td>2006.000000</td>\n",
       "      <td>8.898000e+03</td>\n",
       "      <td>209.000000</td>\n",
       "      <td>557.000000</td>\n",
       "      <td>448.000000</td>\n",
       "    </tr>\n",
       "    <tr>\n",
       "      <th>50%</th>\n",
       "      <td>2009.000000</td>\n",
       "      <td>2.746000e+04</td>\n",
       "      <td>440.000000</td>\n",
       "      <td>923.000000</td>\n",
       "      <td>747.000000</td>\n",
       "    </tr>\n",
       "    <tr>\n",
       "      <th>75%</th>\n",
       "      <td>2013.000000</td>\n",
       "      <td>8.835650e+04</td>\n",
       "      <td>828.000000</td>\n",
       "      <td>1527.000000</td>\n",
       "      <td>1248.000000</td>\n",
       "    </tr>\n",
       "    <tr>\n",
       "      <th>max</th>\n",
       "      <td>2016.000000</td>\n",
       "      <td>1.639032e+06</td>\n",
       "      <td>6000.000000</td>\n",
       "      <td>8192.000000</td>\n",
       "      <td>6400.000000</td>\n",
       "    </tr>\n",
       "  </tbody>\n",
       "</table>\n",
       "</div>"
      ],
      "text/plain": [
       "               year      quantity      priceMin      priceMax      priceMod\n",
       "count  10227.000000  1.022700e+04  10227.000000  10227.000000  10227.000000\n",
       "mean    2009.022294  7.660488e+04    646.944363   1212.760731    984.284345\n",
       "std        4.372841  1.244087e+05    673.121850    979.658874    818.471498\n",
       "min     1996.000000  2.000000e+01     16.000000    145.000000     80.000000\n",
       "25%     2006.000000  8.898000e+03    209.000000    557.000000    448.000000\n",
       "50%     2009.000000  2.746000e+04    440.000000    923.000000    747.000000\n",
       "75%     2013.000000  8.835650e+04    828.000000   1527.000000   1248.000000\n",
       "max     2016.000000  1.639032e+06   6000.000000   8192.000000   6400.000000"
      ]
     },
     "execution_count": 17,
     "metadata": {},
     "output_type": "execute_result"
    }
   ],
   "source": [
    "df.describe()"
   ]
  },
  {
   "cell_type": "code",
   "execution_count": 18,
   "id": "c82bdb13",
   "metadata": {},
   "outputs": [
    {
     "data": {
      "text/html": [
       "<div>\n",
       "<style scoped>\n",
       "    .dataframe tbody tr th:only-of-type {\n",
       "        vertical-align: middle;\n",
       "    }\n",
       "\n",
       "    .dataframe tbody tr th {\n",
       "        vertical-align: top;\n",
       "    }\n",
       "\n",
       "    .dataframe thead th {\n",
       "        text-align: right;\n",
       "    }\n",
       "</style>\n",
       "<table border=\"1\" class=\"dataframe\">\n",
       "  <thead>\n",
       "    <tr style=\"text-align: right;\">\n",
       "      <th></th>\n",
       "      <th>market</th>\n",
       "      <th>month</th>\n",
       "      <th>year</th>\n",
       "      <th>quantity</th>\n",
       "      <th>priceMin</th>\n",
       "      <th>priceMax</th>\n",
       "      <th>priceMod</th>\n",
       "      <th>state</th>\n",
       "      <th>city</th>\n",
       "      <th>date</th>\n",
       "    </tr>\n",
       "  </thead>\n",
       "  <tbody>\n",
       "    <tr>\n",
       "      <th>0</th>\n",
       "      <td>ABOHAR(PB)</td>\n",
       "      <td>January</td>\n",
       "      <td>2005</td>\n",
       "      <td>2350</td>\n",
       "      <td>404</td>\n",
       "      <td>493</td>\n",
       "      <td>446</td>\n",
       "      <td>PB)</td>\n",
       "      <td>ABOHAR</td>\n",
       "      <td>January-2005</td>\n",
       "    </tr>\n",
       "    <tr>\n",
       "      <th>1</th>\n",
       "      <td>ABOHAR(PB)</td>\n",
       "      <td>January</td>\n",
       "      <td>2006</td>\n",
       "      <td>900</td>\n",
       "      <td>487</td>\n",
       "      <td>638</td>\n",
       "      <td>563</td>\n",
       "      <td>PB)</td>\n",
       "      <td>ABOHAR</td>\n",
       "      <td>January-2006</td>\n",
       "    </tr>\n",
       "    <tr>\n",
       "      <th>2</th>\n",
       "      <td>ABOHAR(PB)</td>\n",
       "      <td>January</td>\n",
       "      <td>2010</td>\n",
       "      <td>790</td>\n",
       "      <td>1283</td>\n",
       "      <td>1592</td>\n",
       "      <td>1460</td>\n",
       "      <td>PB)</td>\n",
       "      <td>ABOHAR</td>\n",
       "      <td>January-2010</td>\n",
       "    </tr>\n",
       "    <tr>\n",
       "      <th>3</th>\n",
       "      <td>ABOHAR(PB)</td>\n",
       "      <td>January</td>\n",
       "      <td>2011</td>\n",
       "      <td>245</td>\n",
       "      <td>3067</td>\n",
       "      <td>3750</td>\n",
       "      <td>3433</td>\n",
       "      <td>PB)</td>\n",
       "      <td>ABOHAR</td>\n",
       "      <td>January-2011</td>\n",
       "    </tr>\n",
       "    <tr>\n",
       "      <th>4</th>\n",
       "      <td>ABOHAR(PB)</td>\n",
       "      <td>January</td>\n",
       "      <td>2012</td>\n",
       "      <td>1035</td>\n",
       "      <td>523</td>\n",
       "      <td>686</td>\n",
       "      <td>605</td>\n",
       "      <td>PB)</td>\n",
       "      <td>ABOHAR</td>\n",
       "      <td>January-2012</td>\n",
       "    </tr>\n",
       "  </tbody>\n",
       "</table>\n",
       "</div>"
      ],
      "text/plain": [
       "       market    month  year  quantity  priceMin  priceMax  priceMod state  \\\n",
       "0  ABOHAR(PB)  January  2005      2350       404       493       446   PB)   \n",
       "1  ABOHAR(PB)  January  2006       900       487       638       563   PB)   \n",
       "2  ABOHAR(PB)  January  2010       790      1283      1592      1460   PB)   \n",
       "3  ABOHAR(PB)  January  2011       245      3067      3750      3433   PB)   \n",
       "4  ABOHAR(PB)  January  2012      1035       523       686       605   PB)   \n",
       "\n",
       "     city          date  \n",
       "0  ABOHAR  January-2005  \n",
       "1  ABOHAR  January-2006  \n",
       "2  ABOHAR  January-2010  \n",
       "3  ABOHAR  January-2011  \n",
       "4  ABOHAR  January-2012  "
      ]
     },
     "execution_count": 18,
     "metadata": {},
     "output_type": "execute_result"
    }
   ],
   "source": [
    "df[\"state\"] = df.market.str.split(\"(\").str[-1]\n",
    "df.head()"
   ]
  },
  {
   "cell_type": "code",
   "execution_count": 19,
   "id": "0f8b72f4",
   "metadata": {},
   "outputs": [
    {
     "data": {
      "text/html": [
       "<div>\n",
       "<style scoped>\n",
       "    .dataframe tbody tr th:only-of-type {\n",
       "        vertical-align: middle;\n",
       "    }\n",
       "\n",
       "    .dataframe tbody tr th {\n",
       "        vertical-align: top;\n",
       "    }\n",
       "\n",
       "    .dataframe thead th {\n",
       "        text-align: right;\n",
       "    }\n",
       "</style>\n",
       "<table border=\"1\" class=\"dataframe\">\n",
       "  <thead>\n",
       "    <tr style=\"text-align: right;\">\n",
       "      <th></th>\n",
       "      <th>market</th>\n",
       "      <th>month</th>\n",
       "      <th>year</th>\n",
       "      <th>quantity</th>\n",
       "      <th>priceMin</th>\n",
       "      <th>priceMax</th>\n",
       "      <th>priceMod</th>\n",
       "      <th>state</th>\n",
       "      <th>city</th>\n",
       "      <th>date</th>\n",
       "    </tr>\n",
       "  </thead>\n",
       "  <tbody>\n",
       "    <tr>\n",
       "      <th>0</th>\n",
       "      <td>ABOHAR(PB)</td>\n",
       "      <td>January</td>\n",
       "      <td>2005</td>\n",
       "      <td>2350</td>\n",
       "      <td>404</td>\n",
       "      <td>493</td>\n",
       "      <td>446</td>\n",
       "      <td>PB)</td>\n",
       "      <td>ABOHAR</td>\n",
       "      <td>January-2005</td>\n",
       "    </tr>\n",
       "    <tr>\n",
       "      <th>1</th>\n",
       "      <td>ABOHAR(PB)</td>\n",
       "      <td>January</td>\n",
       "      <td>2006</td>\n",
       "      <td>900</td>\n",
       "      <td>487</td>\n",
       "      <td>638</td>\n",
       "      <td>563</td>\n",
       "      <td>PB)</td>\n",
       "      <td>ABOHAR</td>\n",
       "      <td>January-2006</td>\n",
       "    </tr>\n",
       "    <tr>\n",
       "      <th>2</th>\n",
       "      <td>ABOHAR(PB)</td>\n",
       "      <td>January</td>\n",
       "      <td>2010</td>\n",
       "      <td>790</td>\n",
       "      <td>1283</td>\n",
       "      <td>1592</td>\n",
       "      <td>1460</td>\n",
       "      <td>PB)</td>\n",
       "      <td>ABOHAR</td>\n",
       "      <td>January-2010</td>\n",
       "    </tr>\n",
       "    <tr>\n",
       "      <th>3</th>\n",
       "      <td>ABOHAR(PB)</td>\n",
       "      <td>January</td>\n",
       "      <td>2011</td>\n",
       "      <td>245</td>\n",
       "      <td>3067</td>\n",
       "      <td>3750</td>\n",
       "      <td>3433</td>\n",
       "      <td>PB)</td>\n",
       "      <td>ABOHAR</td>\n",
       "      <td>January-2011</td>\n",
       "    </tr>\n",
       "    <tr>\n",
       "      <th>4</th>\n",
       "      <td>ABOHAR(PB)</td>\n",
       "      <td>January</td>\n",
       "      <td>2012</td>\n",
       "      <td>1035</td>\n",
       "      <td>523</td>\n",
       "      <td>686</td>\n",
       "      <td>605</td>\n",
       "      <td>PB)</td>\n",
       "      <td>ABOHAR</td>\n",
       "      <td>January-2012</td>\n",
       "    </tr>\n",
       "  </tbody>\n",
       "</table>\n",
       "</div>"
      ],
      "text/plain": [
       "       market    month  year  quantity  priceMin  priceMax  priceMod state  \\\n",
       "0  ABOHAR(PB)  January  2005      2350       404       493       446   PB)   \n",
       "1  ABOHAR(PB)  January  2006       900       487       638       563   PB)   \n",
       "2  ABOHAR(PB)  January  2010       790      1283      1592      1460   PB)   \n",
       "3  ABOHAR(PB)  January  2011       245      3067      3750      3433   PB)   \n",
       "4  ABOHAR(PB)  January  2012      1035       523       686       605   PB)   \n",
       "\n",
       "     city          date  \n",
       "0  ABOHAR  January-2005  \n",
       "1  ABOHAR  January-2006  \n",
       "2  ABOHAR  January-2010  \n",
       "3  ABOHAR  January-2011  \n",
       "4  ABOHAR  January-2012  "
      ]
     },
     "execution_count": 19,
     "metadata": {},
     "output_type": "execute_result"
    }
   ],
   "source": [
    "df[\"city\"] = df.market.str.split(\"(\").str[0]\n",
    "df.head()"
   ]
  },
  {
   "cell_type": "code",
   "execution_count": 20,
   "id": "f852b3b5",
   "metadata": {},
   "outputs": [
    {
     "data": {
      "text/plain": [
       "array(['PB)', 'UP)', 'GUJ)', 'MS)', 'RAJ)', 'BANGALORE', 'KNT)', 'BHOPAL',\n",
       "       'OR)', 'BHR)', 'WB)', 'CHANDIGARH', 'CHENNAI', 'bellary)',\n",
       "       'podisu)', 'UTT)', 'DELHI', 'MP)', 'TN)', 'Podis', 'GUWAHATI',\n",
       "       'HYDERABAD', 'JAIPUR', 'WHITE)', 'JAMMU', 'HR)', 'KOLKATA', 'AP)',\n",
       "       'LUCKNOW', 'MUMBAI', 'NAGPUR', 'KER)', 'PATNA', 'CHGARH)', 'JH)',\n",
       "       'SHIMLA', 'SRINAGAR', 'TRIVENDRUM'], dtype=object)"
      ]
     },
     "execution_count": 20,
     "metadata": {},
     "output_type": "execute_result"
    }
   ],
   "source": [
    "df.state.unique()"
   ]
  },
  {
   "cell_type": "code",
   "execution_count": 21,
   "id": "f5f853d5",
   "metadata": {},
   "outputs": [
    {
     "data": {
      "text/plain": [
       "array(['KURNOOL(AP)', 'RAJAHMUNDRY(AP)', 'BANGALORE', 'BHOPAL',\n",
       "       'BIHARSHARIF(BHR)', 'CHANDIGARH', 'CHENNAI', 'RAIPUR(CHGARH)',\n",
       "       'DELHI', 'AHMEDABAD(GUJ)', 'BHAVNAGAR(GUJ)', 'DEESA(GUJ)',\n",
       "       'GONDAL(GUJ)', 'JAMNAGAR(GUJ)', 'MAHUVA(GUJ)', 'RAJKOT(GUJ)',\n",
       "       'SURAT(GUJ)', 'GUWAHATI', 'KARNAL(HR)', 'HYDERABAD', 'JAIPUR',\n",
       "       'JAMMU', 'RANCHI(JH)', 'PALAYAM(KER)', 'BELGAUM(KNT)',\n",
       "       'BIJAPUR(KNT)', 'CHALLAKERE(KNT)', 'CHICKBALLAPUR(KNT)',\n",
       "       'DHAVANGERE(KNT)', 'HASSAN(KNT)', 'HUBLI(KNT)', 'KOLAR(KNT)',\n",
       "       'RAICHUR(KNT)', 'KOLKATA', 'LUCKNOW', 'DEWAS(MP)', 'INDORE(MP)',\n",
       "       'MANDSOUR(MP)', 'NEEMUCH(MP)', 'SAGAR(MP)', 'UJJAIN(MP)',\n",
       "       'AHMEDNAGAR(MS)', 'BOMBORI(MS)', 'CHAKAN(MS)', 'CHANDVAD(MS)',\n",
       "       'DEVALA(MS)', 'DHULIA(MS)', 'DINDORI(MS)', 'JALGAON(MS)',\n",
       "       'JUNNAR(MS)', 'KALVAN(MS)', 'KOLHAPUR(MS)', 'KOPERGAON(MS)',\n",
       "       'LASALGAON(MS)', 'LONAND(MS)', 'MALEGAON(MS)', 'MANMAD(MS)',\n",
       "       'NANDGAON(MS)', 'NASIK(MS)', 'NEWASA(MS)', 'NIPHAD(MS)',\n",
       "       'PHALTAN (MS)', 'PIMPALGAON(MS)', 'PUNE(MS)', 'RAHATA(MS)',\n",
       "       'RAHURI(MS)', 'SAIKHEDA(MS)', 'SANGALI(MS)', 'SANGAMNER(MS)',\n",
       "       'SATANA(MS)', 'SHRIRAMPUR(MS)', 'SINNAR(MS)', 'SOLAPUR(MS)',\n",
       "       'SRIRAMPUR(MS)', 'VANI(MS)', 'YEOLA(MS)', 'MUMBAI', 'NAGPUR',\n",
       "       'BHUBNESWER(OR)', 'PATNA', 'ABOHAR(PB)', 'AMRITSAR(PB)',\n",
       "       'BHATINDA(PB)', 'HOSHIARPUR(PB)', 'JALANDHAR(PB)', 'KHANNA(PB)',\n",
       "       'LUDHIANA(PB)', 'PATIALA(PB)', 'DINDIGUL(TN)(Podis', 'AJMER(RAJ)',\n",
       "       'ALWAR(RAJ)', 'BIKANER(RAJ)', 'JODHPUR(RAJ)', 'KOTA(RAJ)',\n",
       "       'SRIGANGANAGAR(RAJ)', 'UDAIPUR(RAJ)', 'SHIMLA', 'SRINAGAR',\n",
       "       'DINDIGUL(TN)', 'MADURAI(TN)', 'TRIVENDRUM', 'AGRA(UP)',\n",
       "       'ALIGARH(UP)', 'BALLIA(UP)', 'BAREILLY(UP)', 'DEORIA(UP)',\n",
       "       'ETAWAH(UP)', 'GORAKHPUR(UP)', 'KANPUR(UP)', 'MEERUT(UP)',\n",
       "       'VARANASI(UP)', 'DEHRADOON(UTT)', 'HALDWANI(UTT)', 'BURDWAN(WB)',\n",
       "       'MIDNAPUR(WB)', 'PURULIA(WB)', 'SHEROAPHULY(WB)', 'JALGAON(WHITE)',\n",
       "       'COIMBATORE(TN) (bellary)', 'COIMBATORE(TN) (podisu)'],\n",
       "      dtype=object)"
      ]
     },
     "execution_count": 21,
     "metadata": {},
     "output_type": "execute_result"
    }
   ],
   "source": [
    "df_state = df.groupby([\"state\",\"market\"], as_index = False).count()\n",
    "df_state.market.unique()"
   ]
  },
  {
   "cell_type": "code",
   "execution_count": 22,
   "id": "6298c4b6",
   "metadata": {},
   "outputs": [
    {
     "data": {
      "text/plain": [
       "array(['PB)', 'UP)', 'GUJ)', 'MS)', 'RAJ)', 'KNT', 'KNT)', 'MP', 'OR)',\n",
       "       'BHR)', 'WB)', 'CH', 'TN', 'bellary)', 'podisu)', 'UTT)', 'DEL',\n",
       "       'MP)', 'TN)', 'ASM', 'AP', 'RAJ', 'WHITE)', 'JK', 'HR)', 'WB',\n",
       "       'AP)', 'UP', 'MS', 'KER)', 'BHR', 'CHGARH)', 'JH)', 'HP', 'KEL'],\n",
       "      dtype=object)"
      ]
     },
     "execution_count": 22,
     "metadata": {},
     "output_type": "execute_result"
    }
   ],
   "source": [
    "state_now = ['PB', 'UP', 'GUJ', 'MS', 'RAJ', 'BANGALORE', 'KNT', 'BHOPAL', 'OR',\n",
    "       'BHR', 'WB', 'CHANDIGARH', 'CHENNAI', 'bellary', 'podisu', 'UTT',\n",
    "       'DELHI', 'MP', 'TN', 'Podis', 'GUWAHATI', 'HYDERABAD', 'JAIPUR',\n",
    "       'WHITE', 'JAMMU', 'HR', 'KOLKATA', 'AP', 'LUCKNOW', 'MUMBAI',\n",
    "       'NAGPUR', 'KER', 'PATNA', 'CHGARH', 'JH', 'SHIMLA', 'SRINAGAR',\n",
    "       'TRIVENDRUM']\n",
    "state_new =['PB', 'UP', 'GUJ', 'MS', 'RAJ', 'KNT', 'KNT', 'MP', 'OR',\n",
    "       'BHR', 'WB', 'CH', 'TN', 'KNT', 'TN', 'UP',\n",
    "       'DEL', 'MP', 'TN', 'TN', 'ASM', 'AP', 'RAJ',\n",
    "       'MS', 'JK', 'HR', 'WB', 'AP', 'UP', 'MS',\n",
    "       'MS', 'KER', 'BHR', 'HR', 'JH', 'HP', 'JK',\n",
    "       'KEL']\n",
    "df.state = df.state.replace(state_now, state_new)\n",
    "df.state.unique()"
   ]
  },
  {
   "cell_type": "code",
   "execution_count": 23,
   "id": "58365fff",
   "metadata": {},
   "outputs": [
    {
     "data": {
      "text/html": [
       "<div>\n",
       "<style scoped>\n",
       "    .dataframe tbody tr th:only-of-type {\n",
       "        vertical-align: middle;\n",
       "    }\n",
       "\n",
       "    .dataframe tbody tr th {\n",
       "        vertical-align: top;\n",
       "    }\n",
       "\n",
       "    .dataframe thead th {\n",
       "        text-align: right;\n",
       "    }\n",
       "</style>\n",
       "<table border=\"1\" class=\"dataframe\">\n",
       "  <thead>\n",
       "    <tr style=\"text-align: right;\">\n",
       "      <th></th>\n",
       "      <th>market</th>\n",
       "      <th>month</th>\n",
       "      <th>year</th>\n",
       "      <th>quantity</th>\n",
       "      <th>priceMin</th>\n",
       "      <th>priceMax</th>\n",
       "      <th>priceMod</th>\n",
       "      <th>state</th>\n",
       "      <th>city</th>\n",
       "      <th>date</th>\n",
       "    </tr>\n",
       "  </thead>\n",
       "  <tbody>\n",
       "    <tr>\n",
       "      <th>0</th>\n",
       "      <td>ABOHAR(PB)</td>\n",
       "      <td>January</td>\n",
       "      <td>2005</td>\n",
       "      <td>2350</td>\n",
       "      <td>404</td>\n",
       "      <td>493</td>\n",
       "      <td>446</td>\n",
       "      <td>PB)</td>\n",
       "      <td>ABOHAR</td>\n",
       "      <td>January-2005</td>\n",
       "    </tr>\n",
       "    <tr>\n",
       "      <th>1</th>\n",
       "      <td>ABOHAR(PB)</td>\n",
       "      <td>January</td>\n",
       "      <td>2006</td>\n",
       "      <td>900</td>\n",
       "      <td>487</td>\n",
       "      <td>638</td>\n",
       "      <td>563</td>\n",
       "      <td>PB)</td>\n",
       "      <td>ABOHAR</td>\n",
       "      <td>January-2006</td>\n",
       "    </tr>\n",
       "    <tr>\n",
       "      <th>2</th>\n",
       "      <td>ABOHAR(PB)</td>\n",
       "      <td>January</td>\n",
       "      <td>2010</td>\n",
       "      <td>790</td>\n",
       "      <td>1283</td>\n",
       "      <td>1592</td>\n",
       "      <td>1460</td>\n",
       "      <td>PB)</td>\n",
       "      <td>ABOHAR</td>\n",
       "      <td>January-2010</td>\n",
       "    </tr>\n",
       "    <tr>\n",
       "      <th>3</th>\n",
       "      <td>ABOHAR(PB)</td>\n",
       "      <td>January</td>\n",
       "      <td>2011</td>\n",
       "      <td>245</td>\n",
       "      <td>3067</td>\n",
       "      <td>3750</td>\n",
       "      <td>3433</td>\n",
       "      <td>PB)</td>\n",
       "      <td>ABOHAR</td>\n",
       "      <td>January-2011</td>\n",
       "    </tr>\n",
       "    <tr>\n",
       "      <th>4</th>\n",
       "      <td>ABOHAR(PB)</td>\n",
       "      <td>January</td>\n",
       "      <td>2012</td>\n",
       "      <td>1035</td>\n",
       "      <td>523</td>\n",
       "      <td>686</td>\n",
       "      <td>605</td>\n",
       "      <td>PB)</td>\n",
       "      <td>ABOHAR</td>\n",
       "      <td>January-2012</td>\n",
       "    </tr>\n",
       "  </tbody>\n",
       "</table>\n",
       "</div>"
      ],
      "text/plain": [
       "       market    month  year  quantity  priceMin  priceMax  priceMod state  \\\n",
       "0  ABOHAR(PB)  January  2005      2350       404       493       446   PB)   \n",
       "1  ABOHAR(PB)  January  2006       900       487       638       563   PB)   \n",
       "2  ABOHAR(PB)  January  2010       790      1283      1592      1460   PB)   \n",
       "3  ABOHAR(PB)  January  2011       245      3067      3750      3433   PB)   \n",
       "4  ABOHAR(PB)  January  2012      1035       523       686       605   PB)   \n",
       "\n",
       "     city          date  \n",
       "0  ABOHAR  January-2005  \n",
       "1  ABOHAR  January-2006  \n",
       "2  ABOHAR  January-2010  \n",
       "3  ABOHAR  January-2011  \n",
       "4  ABOHAR  January-2012  "
      ]
     },
     "execution_count": 23,
     "metadata": {},
     "output_type": "execute_result"
    }
   ],
   "source": [
    "df.head()"
   ]
  },
  {
   "cell_type": "code",
   "execution_count": 24,
   "id": "e55d853e",
   "metadata": {},
   "outputs": [
    {
     "name": "stdout",
     "output_type": "stream",
     "text": [
      "<class 'pandas.core.frame.DataFrame'>\n",
      "Int64Index: 10227 entries, 0 to 10226\n",
      "Data columns (total 10 columns):\n",
      " #   Column    Non-Null Count  Dtype \n",
      "---  ------    --------------  ----- \n",
      " 0   market    10227 non-null  object\n",
      " 1   month     10227 non-null  object\n",
      " 2   year      10227 non-null  int32 \n",
      " 3   quantity  10227 non-null  int32 \n",
      " 4   priceMin  10227 non-null  int32 \n",
      " 5   priceMax  10227 non-null  int32 \n",
      " 6   priceMod  10227 non-null  int32 \n",
      " 7   state     10227 non-null  object\n",
      " 8   city      10227 non-null  object\n",
      " 9   date      10227 non-null  object\n",
      "dtypes: int32(5), object(5)\n",
      "memory usage: 679.1+ KB\n"
     ]
    }
   ],
   "source": [
    "df.info()"
   ]
  },
  {
   "cell_type": "code",
   "execution_count": 25,
   "id": "52eb3ad5",
   "metadata": {},
   "outputs": [
    {
     "data": {
      "text/plain": [
       "market              object\n",
       "month               object\n",
       "year                 int32\n",
       "quantity             int32\n",
       "priceMin             int32\n",
       "priceMax             int32\n",
       "priceMod             int32\n",
       "state               object\n",
       "city                object\n",
       "date        datetime64[ns]\n",
       "dtype: object"
      ]
     },
     "execution_count": 25,
     "metadata": {},
     "output_type": "execute_result"
    }
   ],
   "source": [
    "df.date = pd.DatetimeIndex(df.date)\n",
    "df.dtypes"
   ]
  },
  {
   "cell_type": "code",
   "execution_count": 26,
   "id": "0d6c99f8",
   "metadata": {},
   "outputs": [
    {
     "data": {
      "text/plain": [
       "array(['ABOHAR', 'AGRA', 'AHMEDABAD', 'AHMEDNAGAR', 'AJMER', 'ALIGARH',\n",
       "       'ALWAR', 'AMRITSAR', 'BALLIA', 'BANGALORE', 'BAREILLY', 'BELGAUM',\n",
       "       'BHATINDA', 'BHAVNAGAR', 'BHOPAL', 'BHUBNESWER', 'BIHARSHARIF',\n",
       "       'BIJAPUR', 'BIKANER', 'BOMBORI', 'BURDWAN', 'CHAKAN', 'CHALLAKERE',\n",
       "       'CHANDIGARH', 'CHANDVAD', 'CHENNAI', 'CHICKBALLAPUR', 'COIMBATORE',\n",
       "       'DEESA', 'DEHRADOON', 'DELHI', 'DEORIA', 'DEVALA', 'DEWAS',\n",
       "       'DHAVANGERE', 'DHULIA', 'DINDIGUL', 'DINDORI', 'ETAWAH', 'GONDAL',\n",
       "       'GORAKHPUR', 'GUWAHATI', 'HALDWANI', 'HASSAN', 'HOSHIARPUR',\n",
       "       'HUBLI', 'HYDERABAD', 'INDORE', 'JAIPUR', 'JALANDHAR', 'JALGAON',\n",
       "       'JAMMU', 'JAMNAGAR', 'JODHPUR', 'JUNNAR', 'KALVAN', 'KANPUR',\n",
       "       'KARNAL', 'KHANNA', 'KOLAR', 'KOLHAPUR', 'KOLKATA', 'KOPERGAON',\n",
       "       'KOTA', 'KURNOOL', 'LASALGAON', 'LONAND', 'LUCKNOW', 'LUDHIANA',\n",
       "       'MADURAI', 'MAHUVA', 'MALEGAON', 'MANDSOUR', 'MANMAD', 'MEERUT',\n",
       "       'MIDNAPUR', 'MUMBAI', 'NAGPUR', 'NANDGAON', 'NASIK', 'NEEMUCH',\n",
       "       'NEWASA', 'NIPHAD', 'PALAYAM', 'PATIALA', 'PATNA', 'PHALTAN ',\n",
       "       'PIMPALGAON', 'PUNE', 'PURULIA', 'RAHATA', 'RAHURI', 'RAICHUR',\n",
       "       'RAIPUR', 'RAJAHMUNDRY', 'RAJKOT', 'RANCHI', 'SAGAR', 'SAIKHEDA',\n",
       "       'SANGALI', 'SANGAMNER', 'SATANA', 'SHEROAPHULY', 'SHIMLA',\n",
       "       'SHRIRAMPUR', 'SINNAR', 'SOLAPUR', 'SRIGANGANAGAR', 'SRINAGAR',\n",
       "       'SRIRAMPUR', 'SURAT', 'TRIVENDRUM', 'UDAIPUR', 'UJJAIN', 'VANI',\n",
       "       'VARANASI', 'YEOLA'], dtype=object)"
      ]
     },
     "execution_count": 26,
     "metadata": {},
     "output_type": "execute_result"
    }
   ],
   "source": [
    "pd.unique(df.city)"
   ]
  },
  {
   "cell_type": "code",
   "execution_count": 27,
   "id": "9727e4af",
   "metadata": {},
   "outputs": [
    {
     "data": {
      "text/html": [
       "<div>\n",
       "<style scoped>\n",
       "    .dataframe tbody tr th:only-of-type {\n",
       "        vertical-align: middle;\n",
       "    }\n",
       "\n",
       "    .dataframe tbody tr th {\n",
       "        vertical-align: top;\n",
       "    }\n",
       "\n",
       "    .dataframe thead th {\n",
       "        text-align: right;\n",
       "    }\n",
       "</style>\n",
       "<table border=\"1\" class=\"dataframe\">\n",
       "  <thead>\n",
       "    <tr style=\"text-align: right;\">\n",
       "      <th></th>\n",
       "      <th>market</th>\n",
       "      <th>month</th>\n",
       "      <th>year</th>\n",
       "      <th>quantity</th>\n",
       "      <th>priceMin</th>\n",
       "      <th>priceMax</th>\n",
       "      <th>priceMod</th>\n",
       "      <th>state</th>\n",
       "      <th>city</th>\n",
       "      <th>date</th>\n",
       "    </tr>\n",
       "  </thead>\n",
       "  <tbody>\n",
       "    <tr>\n",
       "      <th>0</th>\n",
       "      <td>ABOHAR(PB)</td>\n",
       "      <td>January</td>\n",
       "      <td>2005</td>\n",
       "      <td>2350</td>\n",
       "      <td>404</td>\n",
       "      <td>493</td>\n",
       "      <td>446</td>\n",
       "      <td>PB)</td>\n",
       "      <td>ABOHAR</td>\n",
       "      <td>2005-01-01</td>\n",
       "    </tr>\n",
       "    <tr>\n",
       "      <th>1</th>\n",
       "      <td>ABOHAR(PB)</td>\n",
       "      <td>January</td>\n",
       "      <td>2006</td>\n",
       "      <td>900</td>\n",
       "      <td>487</td>\n",
       "      <td>638</td>\n",
       "      <td>563</td>\n",
       "      <td>PB)</td>\n",
       "      <td>ABOHAR</td>\n",
       "      <td>2006-01-01</td>\n",
       "    </tr>\n",
       "    <tr>\n",
       "      <th>2</th>\n",
       "      <td>ABOHAR(PB)</td>\n",
       "      <td>January</td>\n",
       "      <td>2010</td>\n",
       "      <td>790</td>\n",
       "      <td>1283</td>\n",
       "      <td>1592</td>\n",
       "      <td>1460</td>\n",
       "      <td>PB)</td>\n",
       "      <td>ABOHAR</td>\n",
       "      <td>2010-01-01</td>\n",
       "    </tr>\n",
       "    <tr>\n",
       "      <th>3</th>\n",
       "      <td>ABOHAR(PB)</td>\n",
       "      <td>January</td>\n",
       "      <td>2011</td>\n",
       "      <td>245</td>\n",
       "      <td>3067</td>\n",
       "      <td>3750</td>\n",
       "      <td>3433</td>\n",
       "      <td>PB)</td>\n",
       "      <td>ABOHAR</td>\n",
       "      <td>2011-01-01</td>\n",
       "    </tr>\n",
       "    <tr>\n",
       "      <th>4</th>\n",
       "      <td>ABOHAR(PB)</td>\n",
       "      <td>January</td>\n",
       "      <td>2012</td>\n",
       "      <td>1035</td>\n",
       "      <td>523</td>\n",
       "      <td>686</td>\n",
       "      <td>605</td>\n",
       "      <td>PB)</td>\n",
       "      <td>ABOHAR</td>\n",
       "      <td>2012-01-01</td>\n",
       "    </tr>\n",
       "  </tbody>\n",
       "</table>\n",
       "</div>"
      ],
      "text/plain": [
       "       market    month  year  quantity  priceMin  priceMax  priceMod state  \\\n",
       "0  ABOHAR(PB)  January  2005      2350       404       493       446   PB)   \n",
       "1  ABOHAR(PB)  January  2006       900       487       638       563   PB)   \n",
       "2  ABOHAR(PB)  January  2010       790      1283      1592      1460   PB)   \n",
       "3  ABOHAR(PB)  January  2011       245      3067      3750      3433   PB)   \n",
       "4  ABOHAR(PB)  January  2012      1035       523       686       605   PB)   \n",
       "\n",
       "     city       date  \n",
       "0  ABOHAR 2005-01-01  \n",
       "1  ABOHAR 2006-01-01  \n",
       "2  ABOHAR 2010-01-01  \n",
       "3  ABOHAR 2011-01-01  \n",
       "4  ABOHAR 2012-01-01  "
      ]
     },
     "execution_count": 27,
     "metadata": {},
     "output_type": "execute_result"
    }
   ],
   "source": [
    "df.head()"
   ]
  },
  {
   "cell_type": "markdown",
   "id": "5b94de46",
   "metadata": {},
   "source": [
    "# The price variation in Onion prices in Mumbai"
   ]
  },
  {
   "cell_type": "code",
   "execution_count": 28,
   "id": "68405798",
   "metadata": {},
   "outputs": [
    {
     "data": {
      "text/html": [
       "<div>\n",
       "<style scoped>\n",
       "    .dataframe tbody tr th:only-of-type {\n",
       "        vertical-align: middle;\n",
       "    }\n",
       "\n",
       "    .dataframe tbody tr th {\n",
       "        vertical-align: top;\n",
       "    }\n",
       "\n",
       "    .dataframe thead th {\n",
       "        text-align: right;\n",
       "    }\n",
       "</style>\n",
       "<table border=\"1\" class=\"dataframe\">\n",
       "  <thead>\n",
       "    <tr style=\"text-align: right;\">\n",
       "      <th></th>\n",
       "      <th>market</th>\n",
       "      <th>month</th>\n",
       "      <th>year</th>\n",
       "      <th>quantity</th>\n",
       "      <th>priceMin</th>\n",
       "      <th>priceMax</th>\n",
       "      <th>priceMod</th>\n",
       "      <th>state</th>\n",
       "      <th>city</th>\n",
       "      <th>date</th>\n",
       "    </tr>\n",
       "  </thead>\n",
       "  <tbody>\n",
       "    <tr>\n",
       "      <th>6654</th>\n",
       "      <td>MUMBAI</td>\n",
       "      <td>January</td>\n",
       "      <td>2004</td>\n",
       "      <td>267100</td>\n",
       "      <td>719</td>\n",
       "      <td>971</td>\n",
       "      <td>849</td>\n",
       "      <td>MS</td>\n",
       "      <td>MUMBAI</td>\n",
       "      <td>2004-01-01</td>\n",
       "    </tr>\n",
       "    <tr>\n",
       "      <th>6655</th>\n",
       "      <td>MUMBAI</td>\n",
       "      <td>January</td>\n",
       "      <td>2005</td>\n",
       "      <td>275845</td>\n",
       "      <td>261</td>\n",
       "      <td>513</td>\n",
       "      <td>387</td>\n",
       "      <td>MS</td>\n",
       "      <td>MUMBAI</td>\n",
       "      <td>2005-01-01</td>\n",
       "    </tr>\n",
       "    <tr>\n",
       "      <th>6656</th>\n",
       "      <td>MUMBAI</td>\n",
       "      <td>January</td>\n",
       "      <td>2006</td>\n",
       "      <td>228000</td>\n",
       "      <td>315</td>\n",
       "      <td>488</td>\n",
       "      <td>402</td>\n",
       "      <td>MS</td>\n",
       "      <td>MUMBAI</td>\n",
       "      <td>2006-01-01</td>\n",
       "    </tr>\n",
       "    <tr>\n",
       "      <th>6657</th>\n",
       "      <td>MUMBAI</td>\n",
       "      <td>January</td>\n",
       "      <td>2007</td>\n",
       "      <td>205200</td>\n",
       "      <td>866</td>\n",
       "      <td>1136</td>\n",
       "      <td>997</td>\n",
       "      <td>MS</td>\n",
       "      <td>MUMBAI</td>\n",
       "      <td>2007-01-01</td>\n",
       "    </tr>\n",
       "    <tr>\n",
       "      <th>6658</th>\n",
       "      <td>MUMBAI</td>\n",
       "      <td>January</td>\n",
       "      <td>2008</td>\n",
       "      <td>267550</td>\n",
       "      <td>348</td>\n",
       "      <td>550</td>\n",
       "      <td>448</td>\n",
       "      <td>MS</td>\n",
       "      <td>MUMBAI</td>\n",
       "      <td>2008-01-01</td>\n",
       "    </tr>\n",
       "  </tbody>\n",
       "</table>\n",
       "</div>"
      ],
      "text/plain": [
       "      market    month  year  quantity  priceMin  priceMax  priceMod state  \\\n",
       "6654  MUMBAI  January  2004    267100       719       971       849    MS   \n",
       "6655  MUMBAI  January  2005    275845       261       513       387    MS   \n",
       "6656  MUMBAI  January  2006    228000       315       488       402    MS   \n",
       "6657  MUMBAI  January  2007    205200       866      1136       997    MS   \n",
       "6658  MUMBAI  January  2008    267550       348       550       448    MS   \n",
       "\n",
       "        city       date  \n",
       "6654  MUMBAI 2004-01-01  \n",
       "6655  MUMBAI 2005-01-01  \n",
       "6656  MUMBAI 2006-01-01  \n",
       "6657  MUMBAI 2007-01-01  \n",
       "6658  MUMBAI 2008-01-01  "
      ]
     },
     "execution_count": 28,
     "metadata": {},
     "output_type": "execute_result"
    }
   ],
   "source": [
    "df_mum = df[df.city == \"MUMBAI\"]\n",
    "df_mum.head()"
   ]
  },
  {
   "cell_type": "code",
   "execution_count": 29,
   "id": "54637b0f",
   "metadata": {},
   "outputs": [
    {
     "data": {
      "text/html": [
       "<div>\n",
       "<style scoped>\n",
       "    .dataframe tbody tr th:only-of-type {\n",
       "        vertical-align: middle;\n",
       "    }\n",
       "\n",
       "    .dataframe tbody tr th {\n",
       "        vertical-align: top;\n",
       "    }\n",
       "\n",
       "    .dataframe thead th {\n",
       "        text-align: right;\n",
       "    }\n",
       "</style>\n",
       "<table border=\"1\" class=\"dataframe\">\n",
       "  <thead>\n",
       "    <tr style=\"text-align: right;\">\n",
       "      <th></th>\n",
       "      <th>year</th>\n",
       "      <th>quantity</th>\n",
       "      <th>priceMin</th>\n",
       "      <th>priceMax</th>\n",
       "      <th>priceMod</th>\n",
       "    </tr>\n",
       "  </thead>\n",
       "  <tbody>\n",
       "    <tr>\n",
       "      <th>count</th>\n",
       "      <td>146</td>\n",
       "      <td>146</td>\n",
       "      <td>146</td>\n",
       "      <td>146</td>\n",
       "      <td>146</td>\n",
       "    </tr>\n",
       "    <tr>\n",
       "      <th>mean</th>\n",
       "      <td>2010</td>\n",
       "      <td>221721</td>\n",
       "      <td>901</td>\n",
       "      <td>1317</td>\n",
       "      <td>1114</td>\n",
       "    </tr>\n",
       "    <tr>\n",
       "      <th>std</th>\n",
       "      <td>4</td>\n",
       "      <td>40793</td>\n",
       "      <td>731</td>\n",
       "      <td>1019</td>\n",
       "      <td>883</td>\n",
       "    </tr>\n",
       "    <tr>\n",
       "      <th>min</th>\n",
       "      <td>2004</td>\n",
       "      <td>131590</td>\n",
       "      <td>215</td>\n",
       "      <td>335</td>\n",
       "      <td>287</td>\n",
       "    </tr>\n",
       "    <tr>\n",
       "      <th>25%</th>\n",
       "      <td>2007</td>\n",
       "      <td>195125</td>\n",
       "      <td>434</td>\n",
       "      <td>648</td>\n",
       "      <td>544</td>\n",
       "    </tr>\n",
       "    <tr>\n",
       "      <th>50%</th>\n",
       "      <td>2010</td>\n",
       "      <td>222220</td>\n",
       "      <td>692</td>\n",
       "      <td>982</td>\n",
       "      <td>846</td>\n",
       "    </tr>\n",
       "    <tr>\n",
       "      <th>75%</th>\n",
       "      <td>2013</td>\n",
       "      <td>246050</td>\n",
       "      <td>1099</td>\n",
       "      <td>1623</td>\n",
       "      <td>1392</td>\n",
       "    </tr>\n",
       "    <tr>\n",
       "      <th>max</th>\n",
       "      <td>2016</td>\n",
       "      <td>413681</td>\n",
       "      <td>4005</td>\n",
       "      <td>5517</td>\n",
       "      <td>4714</td>\n",
       "    </tr>\n",
       "  </tbody>\n",
       "</table>\n",
       "</div>"
      ],
      "text/plain": [
       "       year  quantity  priceMin  priceMax  priceMod\n",
       "count   146       146       146       146       146\n",
       "mean   2010    221721       901      1317      1114\n",
       "std       4     40793       731      1019       883\n",
       "min    2004    131590       215       335       287\n",
       "25%    2007    195125       434       648       544\n",
       "50%    2010    222220       692       982       846\n",
       "75%    2013    246050      1099      1623      1392\n",
       "max    2016    413681      4005      5517      4714"
      ]
     },
     "execution_count": 29,
     "metadata": {},
     "output_type": "execute_result"
    }
   ],
   "source": [
    "pd.set_option(\"precision\", 0)\n",
    "df_mum.describe()"
   ]
  },
  {
   "cell_type": "code",
   "execution_count": 30,
   "id": "fd0d4dc3",
   "metadata": {},
   "outputs": [
    {
     "data": {
      "text/plain": [
       "Int64Index([6654, 6655, 6656, 6657, 6658, 6659, 6660, 6661, 6662, 6663,\n",
       "            ...\n",
       "            6790, 6791, 6792, 6793, 6794, 6795, 6796, 6797, 6798, 6799],\n",
       "           dtype='int64', length=146)"
      ]
     },
     "execution_count": 30,
     "metadata": {},
     "output_type": "execute_result"
    }
   ],
   "source": [
    "df_mum.index"
   ]
  },
  {
   "cell_type": "code",
   "execution_count": 31,
   "id": "eb895d12",
   "metadata": {},
   "outputs": [
    {
     "data": {
      "text/html": [
       "<div>\n",
       "<style scoped>\n",
       "    .dataframe tbody tr th:only-of-type {\n",
       "        vertical-align: middle;\n",
       "    }\n",
       "\n",
       "    .dataframe tbody tr th {\n",
       "        vertical-align: top;\n",
       "    }\n",
       "\n",
       "    .dataframe thead th {\n",
       "        text-align: right;\n",
       "    }\n",
       "</style>\n",
       "<table border=\"1\" class=\"dataframe\">\n",
       "  <thead>\n",
       "    <tr style=\"text-align: right;\">\n",
       "      <th></th>\n",
       "      <th>market</th>\n",
       "      <th>month</th>\n",
       "      <th>year</th>\n",
       "      <th>quantity</th>\n",
       "      <th>priceMin</th>\n",
       "      <th>priceMax</th>\n",
       "      <th>priceMod</th>\n",
       "      <th>state</th>\n",
       "      <th>city</th>\n",
       "      <th>date</th>\n",
       "    </tr>\n",
       "  </thead>\n",
       "  <tbody>\n",
       "    <tr>\n",
       "      <th>6654</th>\n",
       "      <td>MUMBAI</td>\n",
       "      <td>January</td>\n",
       "      <td>2004</td>\n",
       "      <td>267100</td>\n",
       "      <td>719</td>\n",
       "      <td>971</td>\n",
       "      <td>849</td>\n",
       "      <td>MS</td>\n",
       "      <td>MUMBAI</td>\n",
       "      <td>2004-01-01</td>\n",
       "    </tr>\n",
       "    <tr>\n",
       "      <th>6667</th>\n",
       "      <td>MUMBAI</td>\n",
       "      <td>February</td>\n",
       "      <td>2004</td>\n",
       "      <td>239350</td>\n",
       "      <td>614</td>\n",
       "      <td>834</td>\n",
       "      <td>736</td>\n",
       "      <td>MS</td>\n",
       "      <td>MUMBAI</td>\n",
       "      <td>2004-02-01</td>\n",
       "    </tr>\n",
       "    <tr>\n",
       "      <th>6680</th>\n",
       "      <td>MUMBAI</td>\n",
       "      <td>March</td>\n",
       "      <td>2004</td>\n",
       "      <td>238000</td>\n",
       "      <td>436</td>\n",
       "      <td>557</td>\n",
       "      <td>498</td>\n",
       "      <td>MS</td>\n",
       "      <td>MUMBAI</td>\n",
       "      <td>2004-03-01</td>\n",
       "    </tr>\n",
       "    <tr>\n",
       "      <th>6692</th>\n",
       "      <td>MUMBAI</td>\n",
       "      <td>April</td>\n",
       "      <td>2004</td>\n",
       "      <td>198200</td>\n",
       "      <td>346</td>\n",
       "      <td>475</td>\n",
       "      <td>397</td>\n",
       "      <td>MS</td>\n",
       "      <td>MUMBAI</td>\n",
       "      <td>2004-04-01</td>\n",
       "    </tr>\n",
       "    <tr>\n",
       "      <th>6704</th>\n",
       "      <td>MUMBAI</td>\n",
       "      <td>May</td>\n",
       "      <td>2004</td>\n",
       "      <td>166430</td>\n",
       "      <td>357</td>\n",
       "      <td>466</td>\n",
       "      <td>405</td>\n",
       "      <td>MS</td>\n",
       "      <td>MUMBAI</td>\n",
       "      <td>2004-05-01</td>\n",
       "    </tr>\n",
       "  </tbody>\n",
       "</table>\n",
       "</div>"
      ],
      "text/plain": [
       "      market     month  year  quantity  priceMin  priceMax  priceMod state  \\\n",
       "6654  MUMBAI   January  2004    267100       719       971       849    MS   \n",
       "6667  MUMBAI  February  2004    239350       614       834       736    MS   \n",
       "6680  MUMBAI     March  2004    238000       436       557       498    MS   \n",
       "6692  MUMBAI     April  2004    198200       346       475       397    MS   \n",
       "6704  MUMBAI       May  2004    166430       357       466       405    MS   \n",
       "\n",
       "        city       date  \n",
       "6654  MUMBAI 2004-01-01  \n",
       "6667  MUMBAI 2004-02-01  \n",
       "6680  MUMBAI 2004-03-01  \n",
       "6692  MUMBAI 2004-04-01  \n",
       "6704  MUMBAI 2004-05-01  "
      ]
     },
     "execution_count": 31,
     "metadata": {},
     "output_type": "execute_result"
    }
   ],
   "source": [
    "df_mum = df_mum.sort_values(by=\"date\")\n",
    "df_mum.head()"
   ]
  },
  {
   "cell_type": "code",
   "execution_count": 32,
   "id": "2b550ea5",
   "metadata": {},
   "outputs": [
    {
     "data": {
      "text/html": [
       "<div>\n",
       "<style scoped>\n",
       "    .dataframe tbody tr th:only-of-type {\n",
       "        vertical-align: middle;\n",
       "    }\n",
       "\n",
       "    .dataframe tbody tr th {\n",
       "        vertical-align: top;\n",
       "    }\n",
       "\n",
       "    .dataframe thead th {\n",
       "        text-align: right;\n",
       "    }\n",
       "</style>\n",
       "<table border=\"1\" class=\"dataframe\">\n",
       "  <thead>\n",
       "    <tr style=\"text-align: right;\">\n",
       "      <th></th>\n",
       "      <th>market</th>\n",
       "      <th>month</th>\n",
       "      <th>year</th>\n",
       "      <th>quantity</th>\n",
       "      <th>priceMin</th>\n",
       "      <th>priceMax</th>\n",
       "      <th>priceMod</th>\n",
       "      <th>state</th>\n",
       "      <th>city</th>\n",
       "      <th>date</th>\n",
       "    </tr>\n",
       "    <tr>\n",
       "      <th>date</th>\n",
       "      <th></th>\n",
       "      <th></th>\n",
       "      <th></th>\n",
       "      <th></th>\n",
       "      <th></th>\n",
       "      <th></th>\n",
       "      <th></th>\n",
       "      <th></th>\n",
       "      <th></th>\n",
       "      <th></th>\n",
       "    </tr>\n",
       "  </thead>\n",
       "  <tbody>\n",
       "    <tr>\n",
       "      <th>2004-01</th>\n",
       "      <td>MUMBAI</td>\n",
       "      <td>January</td>\n",
       "      <td>2004</td>\n",
       "      <td>267100</td>\n",
       "      <td>719</td>\n",
       "      <td>971</td>\n",
       "      <td>849</td>\n",
       "      <td>MS</td>\n",
       "      <td>MUMBAI</td>\n",
       "      <td>2004-01-01</td>\n",
       "    </tr>\n",
       "    <tr>\n",
       "      <th>2004-02</th>\n",
       "      <td>MUMBAI</td>\n",
       "      <td>February</td>\n",
       "      <td>2004</td>\n",
       "      <td>239350</td>\n",
       "      <td>614</td>\n",
       "      <td>834</td>\n",
       "      <td>736</td>\n",
       "      <td>MS</td>\n",
       "      <td>MUMBAI</td>\n",
       "      <td>2004-02-01</td>\n",
       "    </tr>\n",
       "    <tr>\n",
       "      <th>2004-03</th>\n",
       "      <td>MUMBAI</td>\n",
       "      <td>March</td>\n",
       "      <td>2004</td>\n",
       "      <td>238000</td>\n",
       "      <td>436</td>\n",
       "      <td>557</td>\n",
       "      <td>498</td>\n",
       "      <td>MS</td>\n",
       "      <td>MUMBAI</td>\n",
       "      <td>2004-03-01</td>\n",
       "    </tr>\n",
       "    <tr>\n",
       "      <th>2004-04</th>\n",
       "      <td>MUMBAI</td>\n",
       "      <td>April</td>\n",
       "      <td>2004</td>\n",
       "      <td>198200</td>\n",
       "      <td>346</td>\n",
       "      <td>475</td>\n",
       "      <td>397</td>\n",
       "      <td>MS</td>\n",
       "      <td>MUMBAI</td>\n",
       "      <td>2004-04-01</td>\n",
       "    </tr>\n",
       "    <tr>\n",
       "      <th>2004-05</th>\n",
       "      <td>MUMBAI</td>\n",
       "      <td>May</td>\n",
       "      <td>2004</td>\n",
       "      <td>166430</td>\n",
       "      <td>357</td>\n",
       "      <td>466</td>\n",
       "      <td>405</td>\n",
       "      <td>MS</td>\n",
       "      <td>MUMBAI</td>\n",
       "      <td>2004-05-01</td>\n",
       "    </tr>\n",
       "  </tbody>\n",
       "</table>\n",
       "</div>"
      ],
      "text/plain": [
       "         market     month  year  quantity  priceMin  priceMax  priceMod state  \\\n",
       "date                                                                            \n",
       "2004-01  MUMBAI   January  2004    267100       719       971       849    MS   \n",
       "2004-02  MUMBAI  February  2004    239350       614       834       736    MS   \n",
       "2004-03  MUMBAI     March  2004    238000       436       557       498    MS   \n",
       "2004-04  MUMBAI     April  2004    198200       346       475       397    MS   \n",
       "2004-05  MUMBAI       May  2004    166430       357       466       405    MS   \n",
       "\n",
       "           city       date  \n",
       "date                        \n",
       "2004-01  MUMBAI 2004-01-01  \n",
       "2004-02  MUMBAI 2004-02-01  \n",
       "2004-03  MUMBAI 2004-03-01  \n",
       "2004-04  MUMBAI 2004-04-01  \n",
       "2004-05  MUMBAI 2004-05-01  "
      ]
     },
     "execution_count": 32,
     "metadata": {},
     "output_type": "execute_result"
    }
   ],
   "source": [
    "df_mum.index = pd.PeriodIndex(df_mum.date, freq='M')\n",
    "df_mum.head()"
   ]
  },
  {
   "cell_type": "markdown",
   "id": "753ea7a4",
   "metadata": {},
   "source": [
    "# Visualization of Prices over Time "
   ]
  },
  {
   "cell_type": "code",
   "execution_count": 33,
   "id": "7d24bc8a",
   "metadata": {},
   "outputs": [
    {
     "data": {
      "image/png": "[encoded data removed]",
      "text/plain": [
       "<Figure size 432x288 with 1 Axes>"
      ]
     },
     "metadata": {
      "needs_background": "light"
     },
     "output_type": "display_data"
    }
   ],
   "source": [
    "df_mum.plot(kind=\"line\", y=[\"priceMin\" ,\"priceMax\" ,\"priceMod\"])\n",
    "plt.show()"
   ]
  },
  {
   "cell_type": "code",
   "execution_count": 34,
   "id": "fd8e851b",
   "metadata": {},
   "outputs": [
    {
     "data": {
      "text/html": [
       "<div>\n",
       "<style scoped>\n",
       "    .dataframe tbody tr th:only-of-type {\n",
       "        vertical-align: middle;\n",
       "    }\n",
       "\n",
       "    .dataframe tbody tr th {\n",
       "        vertical-align: top;\n",
       "    }\n",
       "\n",
       "    .dataframe thead th {\n",
       "        text-align: right;\n",
       "    }\n",
       "</style>\n",
       "<table border=\"1\" class=\"dataframe\">\n",
       "  <thead>\n",
       "    <tr style=\"text-align: right;\">\n",
       "      <th></th>\n",
       "      <th>market</th>\n",
       "      <th>month</th>\n",
       "      <th>year</th>\n",
       "      <th>quantity</th>\n",
       "      <th>priceMin</th>\n",
       "      <th>priceMax</th>\n",
       "      <th>priceMod</th>\n",
       "      <th>state</th>\n",
       "      <th>city</th>\n",
       "      <th>date</th>\n",
       "      <th>monthVal</th>\n",
       "    </tr>\n",
       "    <tr>\n",
       "      <th>date</th>\n",
       "      <th></th>\n",
       "      <th></th>\n",
       "      <th></th>\n",
       "      <th></th>\n",
       "      <th></th>\n",
       "      <th></th>\n",
       "      <th></th>\n",
       "      <th></th>\n",
       "      <th></th>\n",
       "      <th></th>\n",
       "      <th></th>\n",
       "    </tr>\n",
       "  </thead>\n",
       "  <tbody>\n",
       "    <tr>\n",
       "      <th>2004-01</th>\n",
       "      <td>MUMBAI</td>\n",
       "      <td>January</td>\n",
       "      <td>2004</td>\n",
       "      <td>267100</td>\n",
       "      <td>719</td>\n",
       "      <td>971</td>\n",
       "      <td>849</td>\n",
       "      <td>MS</td>\n",
       "      <td>MUMBAI</td>\n",
       "      <td>2004-01-01</td>\n",
       "      <td>1</td>\n",
       "    </tr>\n",
       "    <tr>\n",
       "      <th>2004-02</th>\n",
       "      <td>MUMBAI</td>\n",
       "      <td>February</td>\n",
       "      <td>2004</td>\n",
       "      <td>239350</td>\n",
       "      <td>614</td>\n",
       "      <td>834</td>\n",
       "      <td>736</td>\n",
       "      <td>MS</td>\n",
       "      <td>MUMBAI</td>\n",
       "      <td>2004-02-01</td>\n",
       "      <td>2</td>\n",
       "    </tr>\n",
       "    <tr>\n",
       "      <th>2004-03</th>\n",
       "      <td>MUMBAI</td>\n",
       "      <td>March</td>\n",
       "      <td>2004</td>\n",
       "      <td>238000</td>\n",
       "      <td>436</td>\n",
       "      <td>557</td>\n",
       "      <td>498</td>\n",
       "      <td>MS</td>\n",
       "      <td>MUMBAI</td>\n",
       "      <td>2004-03-01</td>\n",
       "      <td>3</td>\n",
       "    </tr>\n",
       "    <tr>\n",
       "      <th>2004-04</th>\n",
       "      <td>MUMBAI</td>\n",
       "      <td>April</td>\n",
       "      <td>2004</td>\n",
       "      <td>198200</td>\n",
       "      <td>346</td>\n",
       "      <td>475</td>\n",
       "      <td>397</td>\n",
       "      <td>MS</td>\n",
       "      <td>MUMBAI</td>\n",
       "      <td>2004-04-01</td>\n",
       "      <td>4</td>\n",
       "    </tr>\n",
       "    <tr>\n",
       "      <th>2004-05</th>\n",
       "      <td>MUMBAI</td>\n",
       "      <td>May</td>\n",
       "      <td>2004</td>\n",
       "      <td>166430</td>\n",
       "      <td>357</td>\n",
       "      <td>466</td>\n",
       "      <td>405</td>\n",
       "      <td>MS</td>\n",
       "      <td>MUMBAI</td>\n",
       "      <td>2004-05-01</td>\n",
       "      <td>5</td>\n",
       "    </tr>\n",
       "  </tbody>\n",
       "</table>\n",
       "</div>"
      ],
      "text/plain": [
       "         market     month  year  quantity  priceMin  priceMax  priceMod state  \\\n",
       "date                                                                            \n",
       "2004-01  MUMBAI   January  2004    267100       719       971       849    MS   \n",
       "2004-02  MUMBAI  February  2004    239350       614       834       736    MS   \n",
       "2004-03  MUMBAI     March  2004    238000       436       557       498    MS   \n",
       "2004-04  MUMBAI     April  2004    198200       346       475       397    MS   \n",
       "2004-05  MUMBAI       May  2004    166430       357       466       405    MS   \n",
       "\n",
       "           city       date  monthVal  \n",
       "date                                  \n",
       "2004-01  MUMBAI 2004-01-01         1  \n",
       "2004-02  MUMBAI 2004-02-01         2  \n",
       "2004-03  MUMBAI 2004-03-01         3  \n",
       "2004-04  MUMBAI 2004-04-01         4  \n",
       "2004-05  MUMBAI 2004-05-01         5  "
      ]
     },
     "execution_count": 34,
     "metadata": {},
     "output_type": "execute_result"
    }
   ],
   "source": [
    "df_mum[\"monthVal\"] = pd.DatetimeIndex(df_mum[\"date\"]).month\n",
    "df_mum.head()"
   ]
  },
  {
   "cell_type": "code",
   "execution_count": 35,
   "id": "6f359997",
   "metadata": {},
   "outputs": [
    {
     "data": {
      "text/html": [
       "<div>\n",
       "<style scoped>\n",
       "    .dataframe tbody tr th:only-of-type {\n",
       "        vertical-align: middle;\n",
       "    }\n",
       "\n",
       "    .dataframe tbody tr th {\n",
       "        vertical-align: top;\n",
       "    }\n",
       "\n",
       "    .dataframe thead th {\n",
       "        text-align: right;\n",
       "    }\n",
       "</style>\n",
       "<table border=\"1\" class=\"dataframe\">\n",
       "  <thead>\n",
       "    <tr style=\"text-align: right;\">\n",
       "      <th></th>\n",
       "      <th>market</th>\n",
       "      <th>month</th>\n",
       "      <th>year</th>\n",
       "      <th>quantity</th>\n",
       "      <th>priceMin</th>\n",
       "      <th>priceMax</th>\n",
       "      <th>priceMod</th>\n",
       "      <th>state</th>\n",
       "      <th>city</th>\n",
       "      <th>date</th>\n",
       "      <th>monthVal</th>\n",
       "      <th>priceDiff</th>\n",
       "    </tr>\n",
       "    <tr>\n",
       "      <th>date</th>\n",
       "      <th></th>\n",
       "      <th></th>\n",
       "      <th></th>\n",
       "      <th></th>\n",
       "      <th></th>\n",
       "      <th></th>\n",
       "      <th></th>\n",
       "      <th></th>\n",
       "      <th></th>\n",
       "      <th></th>\n",
       "      <th></th>\n",
       "      <th></th>\n",
       "    </tr>\n",
       "  </thead>\n",
       "  <tbody>\n",
       "    <tr>\n",
       "      <th>2004-01</th>\n",
       "      <td>MUMBAI</td>\n",
       "      <td>January</td>\n",
       "      <td>2004</td>\n",
       "      <td>267100</td>\n",
       "      <td>719</td>\n",
       "      <td>971</td>\n",
       "      <td>849</td>\n",
       "      <td>MS</td>\n",
       "      <td>MUMBAI</td>\n",
       "      <td>2004-01-01</td>\n",
       "      <td>1</td>\n",
       "      <td>252</td>\n",
       "    </tr>\n",
       "    <tr>\n",
       "      <th>2004-02</th>\n",
       "      <td>MUMBAI</td>\n",
       "      <td>February</td>\n",
       "      <td>2004</td>\n",
       "      <td>239350</td>\n",
       "      <td>614</td>\n",
       "      <td>834</td>\n",
       "      <td>736</td>\n",
       "      <td>MS</td>\n",
       "      <td>MUMBAI</td>\n",
       "      <td>2004-02-01</td>\n",
       "      <td>2</td>\n",
       "      <td>220</td>\n",
       "    </tr>\n",
       "    <tr>\n",
       "      <th>2004-03</th>\n",
       "      <td>MUMBAI</td>\n",
       "      <td>March</td>\n",
       "      <td>2004</td>\n",
       "      <td>238000</td>\n",
       "      <td>436</td>\n",
       "      <td>557</td>\n",
       "      <td>498</td>\n",
       "      <td>MS</td>\n",
       "      <td>MUMBAI</td>\n",
       "      <td>2004-03-01</td>\n",
       "      <td>3</td>\n",
       "      <td>121</td>\n",
       "    </tr>\n",
       "    <tr>\n",
       "      <th>2004-04</th>\n",
       "      <td>MUMBAI</td>\n",
       "      <td>April</td>\n",
       "      <td>2004</td>\n",
       "      <td>198200</td>\n",
       "      <td>346</td>\n",
       "      <td>475</td>\n",
       "      <td>397</td>\n",
       "      <td>MS</td>\n",
       "      <td>MUMBAI</td>\n",
       "      <td>2004-04-01</td>\n",
       "      <td>4</td>\n",
       "      <td>129</td>\n",
       "    </tr>\n",
       "    <tr>\n",
       "      <th>2004-05</th>\n",
       "      <td>MUMBAI</td>\n",
       "      <td>May</td>\n",
       "      <td>2004</td>\n",
       "      <td>166430</td>\n",
       "      <td>357</td>\n",
       "      <td>466</td>\n",
       "      <td>405</td>\n",
       "      <td>MS</td>\n",
       "      <td>MUMBAI</td>\n",
       "      <td>2004-05-01</td>\n",
       "      <td>5</td>\n",
       "      <td>109</td>\n",
       "    </tr>\n",
       "  </tbody>\n",
       "</table>\n",
       "</div>"
      ],
      "text/plain": [
       "         market     month  year  quantity  priceMin  priceMax  priceMod state  \\\n",
       "date                                                                            \n",
       "2004-01  MUMBAI   January  2004    267100       719       971       849    MS   \n",
       "2004-02  MUMBAI  February  2004    239350       614       834       736    MS   \n",
       "2004-03  MUMBAI     March  2004    238000       436       557       498    MS   \n",
       "2004-04  MUMBAI     April  2004    198200       346       475       397    MS   \n",
       "2004-05  MUMBAI       May  2004    166430       357       466       405    MS   \n",
       "\n",
       "           city       date  monthVal  priceDiff  \n",
       "date                                             \n",
       "2004-01  MUMBAI 2004-01-01         1        252  \n",
       "2004-02  MUMBAI 2004-02-01         2        220  \n",
       "2004-03  MUMBAI 2004-03-01         3        121  \n",
       "2004-04  MUMBAI 2004-04-01         4        129  \n",
       "2004-05  MUMBAI 2004-05-01         5        109  "
      ]
     },
     "execution_count": 35,
     "metadata": {},
     "output_type": "execute_result"
    }
   ],
   "source": [
    "df_mum[\"priceDiff\"] = df_mum[\"priceMax\"] - df_mum[\"priceMin\"]\n",
    "df_mum.head()"
   ]
  },
  {
   "cell_type": "code",
   "execution_count": 36,
   "id": "3e4bd778",
   "metadata": {},
   "outputs": [
    {
     "data": {
      "text/html": [
       "<div>\n",
       "<style scoped>\n",
       "    .dataframe tbody tr th:only-of-type {\n",
       "        vertical-align: middle;\n",
       "    }\n",
       "\n",
       "    .dataframe tbody tr th {\n",
       "        vertical-align: top;\n",
       "    }\n",
       "\n",
       "    .dataframe thead th {\n",
       "        text-align: right;\n",
       "    }\n",
       "</style>\n",
       "<table border=\"1\" class=\"dataframe\">\n",
       "  <thead>\n",
       "    <tr style=\"text-align: right;\">\n",
       "      <th>year</th>\n",
       "      <th>2004</th>\n",
       "      <th>2005</th>\n",
       "      <th>2006</th>\n",
       "      <th>2007</th>\n",
       "      <th>2008</th>\n",
       "      <th>2009</th>\n",
       "      <th>2010</th>\n",
       "      <th>2011</th>\n",
       "      <th>2012</th>\n",
       "      <th>2013</th>\n",
       "      <th>2014</th>\n",
       "      <th>2015</th>\n",
       "      <th>2016</th>\n",
       "    </tr>\n",
       "    <tr>\n",
       "      <th>monthVal</th>\n",
       "      <th></th>\n",
       "      <th></th>\n",
       "      <th></th>\n",
       "      <th></th>\n",
       "      <th></th>\n",
       "      <th></th>\n",
       "      <th></th>\n",
       "      <th></th>\n",
       "      <th></th>\n",
       "      <th></th>\n",
       "      <th></th>\n",
       "      <th></th>\n",
       "      <th></th>\n",
       "    </tr>\n",
       "  </thead>\n",
       "  <tbody>\n",
       "    <tr>\n",
       "      <th>1</th>\n",
       "      <td>252</td>\n",
       "      <td>252</td>\n",
       "      <td>173</td>\n",
       "      <td>270</td>\n",
       "      <td>202</td>\n",
       "      <td>506</td>\n",
       "      <td>998</td>\n",
       "      <td>1804</td>\n",
       "      <td>241</td>\n",
       "      <td>414</td>\n",
       "      <td>345</td>\n",
       "      <td>503</td>\n",
       "      <td>819</td>\n",
       "    </tr>\n",
       "    <tr>\n",
       "      <th>2</th>\n",
       "      <td>220</td>\n",
       "      <td>222</td>\n",
       "      <td>133</td>\n",
       "      <td>278</td>\n",
       "      <td>157</td>\n",
       "      <td>423</td>\n",
       "      <td>671</td>\n",
       "      <td>524</td>\n",
       "      <td>214</td>\n",
       "      <td>391</td>\n",
       "      <td>282</td>\n",
       "      <td>415</td>\n",
       "      <td>528</td>\n",
       "    </tr>\n",
       "    <tr>\n",
       "      <th>3</th>\n",
       "      <td>121</td>\n",
       "      <td>175</td>\n",
       "      <td>121</td>\n",
       "      <td>179</td>\n",
       "      <td>154</td>\n",
       "      <td>258</td>\n",
       "      <td>228</td>\n",
       "      <td>312</td>\n",
       "      <td>158</td>\n",
       "      <td>308</td>\n",
       "      <td>346</td>\n",
       "      <td>270</td>\n",
       "      <td>NaN</td>\n",
       "    </tr>\n",
       "    <tr>\n",
       "      <th>4</th>\n",
       "      <td>129</td>\n",
       "      <td>181</td>\n",
       "      <td>103</td>\n",
       "      <td>194</td>\n",
       "      <td>126</td>\n",
       "      <td>140</td>\n",
       "      <td>198</td>\n",
       "      <td>239</td>\n",
       "      <td>196</td>\n",
       "      <td>260</td>\n",
       "      <td>600</td>\n",
       "      <td>236</td>\n",
       "      <td>NaN</td>\n",
       "    </tr>\n",
       "    <tr>\n",
       "      <th>5</th>\n",
       "      <td>109</td>\n",
       "      <td>168</td>\n",
       "      <td>101</td>\n",
       "      <td>197</td>\n",
       "      <td>142</td>\n",
       "      <td>100</td>\n",
       "      <td>187</td>\n",
       "      <td>213</td>\n",
       "      <td>209</td>\n",
       "      <td>312</td>\n",
       "      <td>658</td>\n",
       "      <td>252</td>\n",
       "      <td>NaN</td>\n",
       "    </tr>\n",
       "    <tr>\n",
       "      <th>6</th>\n",
       "      <td>134</td>\n",
       "      <td>255</td>\n",
       "      <td>187</td>\n",
       "      <td>227</td>\n",
       "      <td>204</td>\n",
       "      <td>170</td>\n",
       "      <td>264</td>\n",
       "      <td>340</td>\n",
       "      <td>252</td>\n",
       "      <td>450</td>\n",
       "      <td>746</td>\n",
       "      <td>373</td>\n",
       "      <td>NaN</td>\n",
       "    </tr>\n",
       "    <tr>\n",
       "      <th>7</th>\n",
       "      <td>129</td>\n",
       "      <td>265</td>\n",
       "      <td>195</td>\n",
       "      <td>242</td>\n",
       "      <td>221</td>\n",
       "      <td>140</td>\n",
       "      <td>225</td>\n",
       "      <td>339</td>\n",
       "      <td>260</td>\n",
       "      <td>406</td>\n",
       "      <td>810</td>\n",
       "      <td>532</td>\n",
       "      <td>NaN</td>\n",
       "    </tr>\n",
       "    <tr>\n",
       "      <th>8</th>\n",
       "      <td>139</td>\n",
       "      <td>313</td>\n",
       "      <td>212</td>\n",
       "      <td>226</td>\n",
       "      <td>269</td>\n",
       "      <td>156</td>\n",
       "      <td>321</td>\n",
       "      <td>409</td>\n",
       "      <td>267</td>\n",
       "      <td>568</td>\n",
       "      <td>872</td>\n",
       "      <td>1006</td>\n",
       "      <td>NaN</td>\n",
       "    </tr>\n",
       "    <tr>\n",
       "      <th>9</th>\n",
       "      <td>139</td>\n",
       "      <td>373</td>\n",
       "      <td>215</td>\n",
       "      <td>221</td>\n",
       "      <td>267</td>\n",
       "      <td>204</td>\n",
       "      <td>391</td>\n",
       "      <td>416</td>\n",
       "      <td>340</td>\n",
       "      <td>1175</td>\n",
       "      <td>679</td>\n",
       "      <td>1084</td>\n",
       "      <td>NaN</td>\n",
       "    </tr>\n",
       "    <tr>\n",
       "      <th>10</th>\n",
       "      <td>218</td>\n",
       "      <td>464</td>\n",
       "      <td>265</td>\n",
       "      <td>424</td>\n",
       "      <td>267</td>\n",
       "      <td>277</td>\n",
       "      <td>376</td>\n",
       "      <td>439</td>\n",
       "      <td>420</td>\n",
       "      <td>2078</td>\n",
       "      <td>800</td>\n",
       "      <td>966</td>\n",
       "      <td>NaN</td>\n",
       "    </tr>\n",
       "    <tr>\n",
       "      <th>11</th>\n",
       "      <td>306</td>\n",
       "      <td>579</td>\n",
       "      <td>361</td>\n",
       "      <td>391</td>\n",
       "      <td>423</td>\n",
       "      <td>764</td>\n",
       "      <td>1442</td>\n",
       "      <td>475</td>\n",
       "      <td>533</td>\n",
       "      <td>1458</td>\n",
       "      <td>875</td>\n",
       "      <td>1173</td>\n",
       "      <td>NaN</td>\n",
       "    </tr>\n",
       "    <tr>\n",
       "      <th>12</th>\n",
       "      <td>240</td>\n",
       "      <td>233</td>\n",
       "      <td>301</td>\n",
       "      <td>186</td>\n",
       "      <td>481</td>\n",
       "      <td>1436</td>\n",
       "      <td>2046</td>\n",
       "      <td>475</td>\n",
       "      <td>561</td>\n",
       "      <td>678</td>\n",
       "      <td>745</td>\n",
       "      <td>850</td>\n",
       "      <td>NaN</td>\n",
       "    </tr>\n",
       "  </tbody>\n",
       "</table>\n",
       "</div>"
      ],
      "text/plain": [
       "year      2004  2005  2006  2007  2008  2009  2010  2011  2012  2013  2014  \\\n",
       "monthVal                                                                     \n",
       "1          252   252   173   270   202   506   998  1804   241   414   345   \n",
       "2          220   222   133   278   157   423   671   524   214   391   282   \n",
       "3          121   175   121   179   154   258   228   312   158   308   346   \n",
       "4          129   181   103   194   126   140   198   239   196   260   600   \n",
       "5          109   168   101   197   142   100   187   213   209   312   658   \n",
       "6          134   255   187   227   204   170   264   340   252   450   746   \n",
       "7          129   265   195   242   221   140   225   339   260   406   810   \n",
       "8          139   313   212   226   269   156   321   409   267   568   872   \n",
       "9          139   373   215   221   267   204   391   416   340  1175   679   \n",
       "10         218   464   265   424   267   277   376   439   420  2078   800   \n",
       "11         306   579   361   391   423   764  1442   475   533  1458   875   \n",
       "12         240   233   301   186   481  1436  2046   475   561   678   745   \n",
       "\n",
       "year      2015  2016  \n",
       "monthVal              \n",
       "1          503   819  \n",
       "2          415   528  \n",
       "3          270   NaN  \n",
       "4          236   NaN  \n",
       "5          252   NaN  \n",
       "6          373   NaN  \n",
       "7          532   NaN  \n",
       "8         1006   NaN  \n",
       "9         1084   NaN  \n",
       "10         966   NaN  \n",
       "11        1173   NaN  \n",
       "12         850   NaN  "
      ]
     },
     "execution_count": 36,
     "metadata": {},
     "output_type": "execute_result"
    }
   ],
   "source": [
    "df_mumPivot = pd.pivot_table(df_mum, values = \"priceDiff\", \n",
    "                             columns = \"year\", index = \"monthVal\")\n",
    "df_mumPivot"
   ]
  },
  {
   "cell_type": "code",
   "execution_count": 37,
   "id": "76fc38e6",
   "metadata": {},
   "outputs": [
    {
     "data": {
      "image/png": "[encoded data removed]",
      "text/plain": [
       "<Figure size 432x288 with 1 Axes>"
      ]
     },
     "metadata": {
      "needs_background": "light"
     },
     "output_type": "display_data"
    }
   ],
   "source": [
    "df_mumPivot.plot()\n",
    "plt.show()"
   ]
  },
  {
   "cell_type": "code",
   "execution_count": 38,
   "id": "ae76a2d9",
   "metadata": {},
   "outputs": [
    {
     "data": {
      "text/plain": [
       "<AxesSubplot:ylabel='Frequency'>"
      ]
     },
     "execution_count": 38,
     "metadata": {},
     "output_type": "execute_result"
    },
    {
     "data": {
      "image/png": "[encoded data removed]",
      "text/plain": [
       "<Figure size 432x288 with 1 Axes>"
      ]
     },
     "metadata": {
      "needs_background": "light"
     },
     "output_type": "display_data"
    }
   ],
   "source": [
    "df_mum[\"log_priceMod\"] = np.log(df_mum.priceMod)\n",
    "df_mum.log_priceMod.plot(kind=\"hist\", bins=20)"
   ]
  },
  {
   "cell_type": "markdown",
   "id": "852c8be8",
   "metadata": {},
   "source": [
    "# Onion price in Mumbai"
   ]
  },
  {
   "cell_type": "code",
   "execution_count": 39,
   "id": "ecea7b20",
   "metadata": {},
   "outputs": [
    {
     "data": {
      "text/html": [
       "<div>\n",
       "<style scoped>\n",
       "    .dataframe tbody tr th:only-of-type {\n",
       "        vertical-align: middle;\n",
       "    }\n",
       "\n",
       "    .dataframe tbody tr th {\n",
       "        vertical-align: top;\n",
       "    }\n",
       "\n",
       "    .dataframe thead th {\n",
       "        text-align: right;\n",
       "    }\n",
       "</style>\n",
       "<table border=\"1\" class=\"dataframe\">\n",
       "  <thead>\n",
       "    <tr style=\"text-align: right;\">\n",
       "      <th></th>\n",
       "      <th>market</th>\n",
       "      <th>month</th>\n",
       "      <th>year</th>\n",
       "      <th>quantity</th>\n",
       "      <th>priceMin</th>\n",
       "      <th>priceMax</th>\n",
       "      <th>priceMod</th>\n",
       "      <th>state</th>\n",
       "      <th>city</th>\n",
       "      <th>date</th>\n",
       "    </tr>\n",
       "  </thead>\n",
       "  <tbody>\n",
       "    <tr>\n",
       "      <th>6654</th>\n",
       "      <td>MUMBAI</td>\n",
       "      <td>January</td>\n",
       "      <td>2004</td>\n",
       "      <td>267100</td>\n",
       "      <td>719</td>\n",
       "      <td>971</td>\n",
       "      <td>849</td>\n",
       "      <td>MS</td>\n",
       "      <td>MUMBAI</td>\n",
       "      <td>2004-01-01</td>\n",
       "    </tr>\n",
       "    <tr>\n",
       "      <th>6655</th>\n",
       "      <td>MUMBAI</td>\n",
       "      <td>January</td>\n",
       "      <td>2005</td>\n",
       "      <td>275845</td>\n",
       "      <td>261</td>\n",
       "      <td>513</td>\n",
       "      <td>387</td>\n",
       "      <td>MS</td>\n",
       "      <td>MUMBAI</td>\n",
       "      <td>2005-01-01</td>\n",
       "    </tr>\n",
       "    <tr>\n",
       "      <th>6656</th>\n",
       "      <td>MUMBAI</td>\n",
       "      <td>January</td>\n",
       "      <td>2006</td>\n",
       "      <td>228000</td>\n",
       "      <td>315</td>\n",
       "      <td>488</td>\n",
       "      <td>402</td>\n",
       "      <td>MS</td>\n",
       "      <td>MUMBAI</td>\n",
       "      <td>2006-01-01</td>\n",
       "    </tr>\n",
       "    <tr>\n",
       "      <th>6657</th>\n",
       "      <td>MUMBAI</td>\n",
       "      <td>January</td>\n",
       "      <td>2007</td>\n",
       "      <td>205200</td>\n",
       "      <td>866</td>\n",
       "      <td>1136</td>\n",
       "      <td>997</td>\n",
       "      <td>MS</td>\n",
       "      <td>MUMBAI</td>\n",
       "      <td>2007-01-01</td>\n",
       "    </tr>\n",
       "    <tr>\n",
       "      <th>6658</th>\n",
       "      <td>MUMBAI</td>\n",
       "      <td>January</td>\n",
       "      <td>2008</td>\n",
       "      <td>267550</td>\n",
       "      <td>348</td>\n",
       "      <td>550</td>\n",
       "      <td>448</td>\n",
       "      <td>MS</td>\n",
       "      <td>MUMBAI</td>\n",
       "      <td>2008-01-01</td>\n",
       "    </tr>\n",
       "  </tbody>\n",
       "</table>\n",
       "</div>"
      ],
      "text/plain": [
       "      market    month  year  quantity  priceMin  priceMax  priceMod state  \\\n",
       "6654  MUMBAI  January  2004    267100       719       971       849    MS   \n",
       "6655  MUMBAI  January  2005    275845       261       513       387    MS   \n",
       "6656  MUMBAI  January  2006    228000       315       488       402    MS   \n",
       "6657  MUMBAI  January  2007    205200       866      1136       997    MS   \n",
       "6658  MUMBAI  January  2008    267550       348       550       448    MS   \n",
       "\n",
       "        city       date  \n",
       "6654  MUMBAI 2004-01-01  \n",
       "6655  MUMBAI 2005-01-01  \n",
       "6656  MUMBAI 2006-01-01  \n",
       "6657  MUMBAI 2007-01-01  \n",
       "6658  MUMBAI 2008-01-01  "
      ]
     },
     "execution_count": 39,
     "metadata": {},
     "output_type": "execute_result"
    }
   ],
   "source": [
    "df_mum = df.loc[df.city == \"MUMBAI\"].copy()\n",
    "df_mum.head()"
   ]
  },
  {
   "cell_type": "code",
   "execution_count": 41,
   "id": "753459d8",
   "metadata": {},
   "outputs": [
    {
     "data": {
      "text/html": [
       "<div>\n",
       "<style scoped>\n",
       "    .dataframe tbody tr th:only-of-type {\n",
       "        vertical-align: middle;\n",
       "    }\n",
       "\n",
       "    .dataframe tbody tr th {\n",
       "        vertical-align: top;\n",
       "    }\n",
       "\n",
       "    .dataframe thead th {\n",
       "        text-align: right;\n",
       "    }\n",
       "</style>\n",
       "<table border=\"1\" class=\"dataframe\">\n",
       "  <thead>\n",
       "    <tr style=\"text-align: right;\">\n",
       "      <th></th>\n",
       "      <th>quantity</th>\n",
       "      <th>priceMod</th>\n",
       "      <th>date</th>\n",
       "    </tr>\n",
       "  </thead>\n",
       "  <tbody>\n",
       "    <tr>\n",
       "      <th>6654</th>\n",
       "      <td>267100</td>\n",
       "      <td>849</td>\n",
       "      <td>2004-01-01</td>\n",
       "    </tr>\n",
       "    <tr>\n",
       "      <th>6655</th>\n",
       "      <td>275845</td>\n",
       "      <td>387</td>\n",
       "      <td>2005-01-01</td>\n",
       "    </tr>\n",
       "    <tr>\n",
       "      <th>6656</th>\n",
       "      <td>228000</td>\n",
       "      <td>402</td>\n",
       "      <td>2006-01-01</td>\n",
       "    </tr>\n",
       "    <tr>\n",
       "      <th>6657</th>\n",
       "      <td>205200</td>\n",
       "      <td>997</td>\n",
       "      <td>2007-01-01</td>\n",
       "    </tr>\n",
       "    <tr>\n",
       "      <th>6658</th>\n",
       "      <td>267550</td>\n",
       "      <td>448</td>\n",
       "      <td>2008-01-01</td>\n",
       "    </tr>\n",
       "  </tbody>\n",
       "</table>\n",
       "</div>"
      ],
      "text/plain": [
       "      quantity  priceMod       date\n",
       "6654    267100       849 2004-01-01\n",
       "6655    275845       387 2005-01-01\n",
       "6656    228000       402 2006-01-01\n",
       "6657    205200       997 2007-01-01\n",
       "6658    267550       448 2008-01-01"
      ]
     },
     "execution_count": 41,
     "metadata": {},
     "output_type": "execute_result"
    }
   ],
   "source": [
    "df_mum = df_mum.drop([\"market\",\"month\",\"year\",\"priceMin\",\"priceMax\",\"state\",\"city\"], axis=1)\n",
    "df_mum.head()"
   ]
  },
  {
   "cell_type": "code",
   "execution_count": 42,
   "id": "483b0278",
   "metadata": {},
   "outputs": [
    {
     "data": {
      "image/png": "[encoded data removed]",
      "text/plain": [
       "<Figure size 432x288 with 1 Axes>"
      ]
     },
     "metadata": {
      "needs_background": "light"
     },
     "output_type": "display_data"
    }
   ],
   "source": [
    "df_mum.priceMod.plot()\n",
    "plt.show()"
   ]
  },
  {
   "cell_type": "markdown",
   "id": "93417357",
   "metadata": {},
   "source": [
    "# Log Transformation"
   ]
  },
  {
   "cell_type": "code",
   "execution_count": 43,
   "id": "3e0cab10",
   "metadata": {},
   "outputs": [
    {
     "data": {
      "text/plain": [
       "<AxesSubplot:ylabel='Frequency'>"
      ]
     },
     "execution_count": 43,
     "metadata": {},
     "output_type": "execute_result"
    },
    {
     "data": {
      "image/png": "[encoded data removed]",
      "text/plain": [
       "<Figure size 432x288 with 1 Axes>"
      ]
     },
     "metadata": {
      "needs_background": "light"
     },
     "output_type": "display_data"
    }
   ],
   "source": [
    "df_mum.priceMod.plot(kind=\"hist\", bins=20)"
   ]
  },
  {
   "cell_type": "code",
   "execution_count": 44,
   "id": "bb4bf8d8",
   "metadata": {},
   "outputs": [
    {
     "data": {
      "text/plain": [
       "<AxesSubplot:ylabel='Frequency'>"
      ]
     },
     "execution_count": 44,
     "metadata": {},
     "output_type": "execute_result"
    },
    {
     "data": {
      "image/png": "[encoded data removed]",
      "text/plain": [
       "<Figure size 432x288 with 1 Axes>"
      ]
     },
     "metadata": {
      "needs_background": "light"
     },
     "output_type": "display_data"
    }
   ],
   "source": [
    "df_mum[\"log_priceMod\"] = np.log(df_mum.priceMod)\n",
    "df_mum.log_priceMod.plot(kind=\"hist\", bins=20)"
   ]
  },
  {
   "cell_type": "markdown",
   "id": "f82e0abe",
   "metadata": {},
   "source": [
    "# Time Series Model"
   ]
  },
  {
   "cell_type": "markdown",
   "id": "2ccbd059",
   "metadata": {},
   "source": [
    "# Mean Constant Model"
   ]
  },
  {
   "cell_type": "code",
   "execution_count": 45,
   "id": "e80cf7e9",
   "metadata": {},
   "outputs": [
    {
     "data": {
      "text/html": [
       "<div>\n",
       "<style scoped>\n",
       "    .dataframe tbody tr th:only-of-type {\n",
       "        vertical-align: middle;\n",
       "    }\n",
       "\n",
       "    .dataframe tbody tr th {\n",
       "        vertical-align: top;\n",
       "    }\n",
       "\n",
       "    .dataframe thead th {\n",
       "        text-align: right;\n",
       "    }\n",
       "</style>\n",
       "<table border=\"1\" class=\"dataframe\">\n",
       "  <thead>\n",
       "    <tr style=\"text-align: right;\">\n",
       "      <th></th>\n",
       "      <th>quantity</th>\n",
       "      <th>priceMod</th>\n",
       "      <th>date</th>\n",
       "      <th>log_priceMod</th>\n",
       "      <th>mean_price</th>\n",
       "    </tr>\n",
       "  </thead>\n",
       "  <tbody>\n",
       "    <tr>\n",
       "      <th>6654</th>\n",
       "      <td>267100</td>\n",
       "      <td>849</td>\n",
       "      <td>2004-01-01</td>\n",
       "      <td>7</td>\n",
       "      <td>889</td>\n",
       "    </tr>\n",
       "    <tr>\n",
       "      <th>6655</th>\n",
       "      <td>275845</td>\n",
       "      <td>387</td>\n",
       "      <td>2005-01-01</td>\n",
       "      <td>6</td>\n",
       "      <td>889</td>\n",
       "    </tr>\n",
       "    <tr>\n",
       "      <th>6656</th>\n",
       "      <td>228000</td>\n",
       "      <td>402</td>\n",
       "      <td>2006-01-01</td>\n",
       "      <td>6</td>\n",
       "      <td>889</td>\n",
       "    </tr>\n",
       "    <tr>\n",
       "      <th>6657</th>\n",
       "      <td>205200</td>\n",
       "      <td>997</td>\n",
       "      <td>2007-01-01</td>\n",
       "      <td>7</td>\n",
       "      <td>889</td>\n",
       "    </tr>\n",
       "    <tr>\n",
       "      <th>6658</th>\n",
       "      <td>267550</td>\n",
       "      <td>448</td>\n",
       "      <td>2008-01-01</td>\n",
       "      <td>6</td>\n",
       "      <td>889</td>\n",
       "    </tr>\n",
       "  </tbody>\n",
       "</table>\n",
       "</div>"
      ],
      "text/plain": [
       "      quantity  priceMod       date  log_priceMod  mean_price\n",
       "6654    267100       849 2004-01-01             7         889\n",
       "6655    275845       387 2005-01-01             6         889\n",
       "6656    228000       402 2006-01-01             6         889\n",
       "6657    205200       997 2007-01-01             7         889\n",
       "6658    267550       448 2008-01-01             6         889"
      ]
     },
     "execution_count": 45,
     "metadata": {},
     "output_type": "execute_result"
    }
   ],
   "source": [
    "df_mum_mean = df_mum.log_priceMod.mean()\n",
    "df_mum[\"mean_price\"] = np.exp(df_mum_mean)\n",
    "df_mum.head()"
   ]
  },
  {
   "cell_type": "code",
   "execution_count": 46,
   "id": "d452b33e",
   "metadata": {},
   "outputs": [
    {
     "data": {
      "text/plain": [
       "<AxesSubplot:xlabel='date'>"
      ]
     },
     "execution_count": 46,
     "metadata": {},
     "output_type": "execute_result"
    },
    {
     "data": {
      "image/png": "[encoded data removed]",
      "text/plain": [
       "<Figure size 432x288 with 1 Axes>"
      ]
     },
     "metadata": {
      "needs_background": "light"
     },
     "output_type": "display_data"
    }
   ],
   "source": [
    "df_mum.plot(kind=\"line\", x=\"date\", y=[\"priceMod\", \"mean_price\"])"
   ]
  },
  {
   "cell_type": "markdown",
   "id": "f3401ed7",
   "metadata": {},
   "source": [
    "# Evaluating Using RMSE model"
   ]
  },
  {
   "cell_type": "code",
   "execution_count": 47,
   "id": "0ebaa666",
   "metadata": {},
   "outputs": [],
   "source": [
    "def RMSE(actual, predicted):\n",
    "    mse = (actual - predicted)**2\n",
    "    rmse = np.sqrt(mse.sum()/mse.count())\n",
    "    return rmse"
   ]
  },
  {
   "cell_type": "code",
   "execution_count": 48,
   "id": "30ea210b",
   "metadata": {},
   "outputs": [
    {
     "data": {
      "text/plain": [
       "908.4772843986449"
      ]
     },
     "execution_count": 48,
     "metadata": {},
     "output_type": "execute_result"
    }
   ],
   "source": [
    "mean_modelRMSE = RMSE(df_mum.priceMod, df_mum.mean_price)\n",
    "mean_modelRMSE"
   ]
  },
  {
   "cell_type": "markdown",
   "id": "8593c13b",
   "metadata": {},
   "source": [
    "# Saving The RMSE dataframe"
   ]
  },
  {
   "cell_type": "code",
   "execution_count": 49,
   "id": "ac4936de",
   "metadata": {},
   "outputs": [
    {
     "data": {
      "text/html": [
       "<div>\n",
       "<style scoped>\n",
       "    .dataframe tbody tr th:only-of-type {\n",
       "        vertical-align: middle;\n",
       "    }\n",
       "\n",
       "    .dataframe tbody tr th {\n",
       "        vertical-align: top;\n",
       "    }\n",
       "\n",
       "    .dataframe thead th {\n",
       "        text-align: right;\n",
       "    }\n",
       "</style>\n",
       "<table border=\"1\" class=\"dataframe\">\n",
       "  <thead>\n",
       "    <tr style=\"text-align: right;\">\n",
       "      <th></th>\n",
       "      <th>Model</th>\n",
       "      <th>Forcast</th>\n",
       "      <th>RMSE</th>\n",
       "    </tr>\n",
       "  </thead>\n",
       "  <tbody>\n",
       "    <tr>\n",
       "      <th>0</th>\n",
       "      <td>Mean Model</td>\n",
       "      <td>889</td>\n",
       "      <td>908</td>\n",
       "    </tr>\n",
       "  </tbody>\n",
       "</table>\n",
       "</div>"
      ],
      "text/plain": [
       "        Model Forcast RMSE\n",
       "0  Mean Model     889  908"
      ]
     },
     "execution_count": 49,
     "metadata": {},
     "output_type": "execute_result"
    }
   ],
   "source": [
    "Result_df = pd.DataFrame(columns =[\"Model\",\"Forcast\",\"RMSE\"])\n",
    "Result_df.loc[0,\"Model\"] = \"Mean Model\"\n",
    "Result_df.loc[0,\"Forcast\"] = np.exp(df_mum_mean)\n",
    "Result_df.loc[0,\"RMSE\"] = mean_modelRMSE\n",
    "Result_df"
   ]
  },
  {
   "cell_type": "markdown",
   "id": "e663a45e",
   "metadata": {},
   "source": [
    "# Linear Trend Model"
   ]
  },
  {
   "cell_type": "code",
   "execution_count": 51,
   "id": "4bcf5926",
   "metadata": {},
   "outputs": [
    {
     "data": {
      "text/html": [
       "<div>\n",
       "<style scoped>\n",
       "    .dataframe tbody tr th:only-of-type {\n",
       "        vertical-align: middle;\n",
       "    }\n",
       "\n",
       "    .dataframe tbody tr th {\n",
       "        vertical-align: top;\n",
       "    }\n",
       "\n",
       "    .dataframe thead th {\n",
       "        text-align: right;\n",
       "    }\n",
       "</style>\n",
       "<table border=\"1\" class=\"dataframe\">\n",
       "  <thead>\n",
       "    <tr style=\"text-align: right;\">\n",
       "      <th></th>\n",
       "      <th>quantity</th>\n",
       "      <th>priceMod</th>\n",
       "      <th>date</th>\n",
       "      <th>log_priceMod</th>\n",
       "      <th>mean_price</th>\n",
       "    </tr>\n",
       "  </thead>\n",
       "  <tbody>\n",
       "    <tr>\n",
       "      <th>6654</th>\n",
       "      <td>267100</td>\n",
       "      <td>849</td>\n",
       "      <td>2004-01-01</td>\n",
       "      <td>7</td>\n",
       "      <td>889</td>\n",
       "    </tr>\n",
       "    <tr>\n",
       "      <th>6655</th>\n",
       "      <td>275845</td>\n",
       "      <td>387</td>\n",
       "      <td>2005-01-01</td>\n",
       "      <td>6</td>\n",
       "      <td>889</td>\n",
       "    </tr>\n",
       "    <tr>\n",
       "      <th>6656</th>\n",
       "      <td>228000</td>\n",
       "      <td>402</td>\n",
       "      <td>2006-01-01</td>\n",
       "      <td>6</td>\n",
       "      <td>889</td>\n",
       "    </tr>\n",
       "    <tr>\n",
       "      <th>6657</th>\n",
       "      <td>205200</td>\n",
       "      <td>997</td>\n",
       "      <td>2007-01-01</td>\n",
       "      <td>7</td>\n",
       "      <td>889</td>\n",
       "    </tr>\n",
       "    <tr>\n",
       "      <th>6658</th>\n",
       "      <td>267550</td>\n",
       "      <td>448</td>\n",
       "      <td>2008-01-01</td>\n",
       "      <td>6</td>\n",
       "      <td>889</td>\n",
       "    </tr>\n",
       "  </tbody>\n",
       "</table>\n",
       "</div>"
      ],
      "text/plain": [
       "      quantity  priceMod       date  log_priceMod  mean_price\n",
       "6654    267100       849 2004-01-01             7         889\n",
       "6655    275845       387 2005-01-01             6         889\n",
       "6656    228000       402 2006-01-01             6         889\n",
       "6657    205200       997 2007-01-01             7         889\n",
       "6658    267550       448 2008-01-01             6         889"
      ]
     },
     "execution_count": 51,
     "metadata": {},
     "output_type": "execute_result"
    }
   ],
   "source": [
    "df_mum.head()"
   ]
  },
  {
   "cell_type": "code",
   "execution_count": 52,
   "id": "37b59eef",
   "metadata": {},
   "outputs": [
    {
     "name": "stdout",
     "output_type": "stream",
     "text": [
      "<class 'pandas.core.frame.DataFrame'>\n",
      "Int64Index: 146 entries, 6654 to 6799\n",
      "Data columns (total 5 columns):\n",
      " #   Column        Non-Null Count  Dtype         \n",
      "---  ------        --------------  -----         \n",
      " 0   quantity      146 non-null    int32         \n",
      " 1   priceMod      146 non-null    int32         \n",
      " 2   date          146 non-null    datetime64[ns]\n",
      " 3   log_priceMod  146 non-null    float64       \n",
      " 4   mean_price    146 non-null    float64       \n",
      "dtypes: datetime64[ns](1), float64(2), int32(2)\n",
      "memory usage: 5.7 KB\n"
     ]
    }
   ],
   "source": [
    "df_mum.info()"
   ]
  },
  {
   "cell_type": "code",
   "execution_count": 53,
   "id": "ee370a5e",
   "metadata": {},
   "outputs": [
    {
     "data": {
      "text/html": [
       "<div>\n",
       "<style scoped>\n",
       "    .dataframe tbody tr th:only-of-type {\n",
       "        vertical-align: middle;\n",
       "    }\n",
       "\n",
       "    .dataframe tbody tr th {\n",
       "        vertical-align: top;\n",
       "    }\n",
       "\n",
       "    .dataframe thead th {\n",
       "        text-align: right;\n",
       "    }\n",
       "</style>\n",
       "<table border=\"1\" class=\"dataframe\">\n",
       "  <thead>\n",
       "    <tr style=\"text-align: right;\">\n",
       "      <th></th>\n",
       "      <th>quantity</th>\n",
       "      <th>priceMod</th>\n",
       "      <th>date</th>\n",
       "      <th>log_priceMod</th>\n",
       "      <th>mean_price</th>\n",
       "      <th>timeindex</th>\n",
       "    </tr>\n",
       "  </thead>\n",
       "  <tbody>\n",
       "    <tr>\n",
       "      <th>6654</th>\n",
       "      <td>267100</td>\n",
       "      <td>849</td>\n",
       "      <td>2004-01-01</td>\n",
       "      <td>7</td>\n",
       "      <td>889</td>\n",
       "      <td>0 days</td>\n",
       "    </tr>\n",
       "    <tr>\n",
       "      <th>6655</th>\n",
       "      <td>275845</td>\n",
       "      <td>387</td>\n",
       "      <td>2005-01-01</td>\n",
       "      <td>6</td>\n",
       "      <td>889</td>\n",
       "      <td>366 days</td>\n",
       "    </tr>\n",
       "    <tr>\n",
       "      <th>6656</th>\n",
       "      <td>228000</td>\n",
       "      <td>402</td>\n",
       "      <td>2006-01-01</td>\n",
       "      <td>6</td>\n",
       "      <td>889</td>\n",
       "      <td>731 days</td>\n",
       "    </tr>\n",
       "    <tr>\n",
       "      <th>6657</th>\n",
       "      <td>205200</td>\n",
       "      <td>997</td>\n",
       "      <td>2007-01-01</td>\n",
       "      <td>7</td>\n",
       "      <td>889</td>\n",
       "      <td>1096 days</td>\n",
       "    </tr>\n",
       "    <tr>\n",
       "      <th>6658</th>\n",
       "      <td>267550</td>\n",
       "      <td>448</td>\n",
       "      <td>2008-01-01</td>\n",
       "      <td>6</td>\n",
       "      <td>889</td>\n",
       "      <td>1461 days</td>\n",
       "    </tr>\n",
       "  </tbody>\n",
       "</table>\n",
       "</div>"
      ],
      "text/plain": [
       "      quantity  priceMod       date  log_priceMod  mean_price timeindex\n",
       "6654    267100       849 2004-01-01             7         889    0 days\n",
       "6655    275845       387 2005-01-01             6         889  366 days\n",
       "6656    228000       402 2006-01-01             6         889  731 days\n",
       "6657    205200       997 2007-01-01             7         889 1096 days\n",
       "6658    267550       448 2008-01-01             6         889 1461 days"
      ]
     },
     "execution_count": 53,
     "metadata": {},
     "output_type": "execute_result"
    }
   ],
   "source": [
    "df_mum[\"timeindex\"] = df_mum.date - df_mum.date.min()\n",
    "df_mum.head()"
   ]
  },
  {
   "cell_type": "code",
   "execution_count": 54,
   "id": "6e825324",
   "metadata": {},
   "outputs": [
    {
     "data": {
      "text/plain": [
       "quantity                  int32\n",
       "priceMod                  int32\n",
       "date             datetime64[ns]\n",
       "log_priceMod            float64\n",
       "mean_price              float64\n",
       "timeindex       timedelta64[ns]\n",
       "dtype: object"
      ]
     },
     "execution_count": 54,
     "metadata": {},
     "output_type": "execute_result"
    }
   ],
   "source": [
    "df_mum.dtypes"
   ]
  },
  {
   "cell_type": "code",
   "execution_count": 55,
   "id": "dbb1ff91",
   "metadata": {},
   "outputs": [
    {
     "data": {
      "text/html": [
       "<div>\n",
       "<style scoped>\n",
       "    .dataframe tbody tr th:only-of-type {\n",
       "        vertical-align: middle;\n",
       "    }\n",
       "\n",
       "    .dataframe tbody tr th {\n",
       "        vertical-align: top;\n",
       "    }\n",
       "\n",
       "    .dataframe thead th {\n",
       "        text-align: right;\n",
       "    }\n",
       "</style>\n",
       "<table border=\"1\" class=\"dataframe\">\n",
       "  <thead>\n",
       "    <tr style=\"text-align: right;\">\n",
       "      <th></th>\n",
       "      <th>quantity</th>\n",
       "      <th>priceMod</th>\n",
       "      <th>date</th>\n",
       "      <th>log_priceMod</th>\n",
       "      <th>mean_price</th>\n",
       "      <th>timeindex</th>\n",
       "    </tr>\n",
       "  </thead>\n",
       "  <tbody>\n",
       "    <tr>\n",
       "      <th>6654</th>\n",
       "      <td>267100</td>\n",
       "      <td>849</td>\n",
       "      <td>2004-01-01</td>\n",
       "      <td>7</td>\n",
       "      <td>889</td>\n",
       "      <td>0</td>\n",
       "    </tr>\n",
       "    <tr>\n",
       "      <th>6655</th>\n",
       "      <td>275845</td>\n",
       "      <td>387</td>\n",
       "      <td>2005-01-01</td>\n",
       "      <td>6</td>\n",
       "      <td>889</td>\n",
       "      <td>12</td>\n",
       "    </tr>\n",
       "    <tr>\n",
       "      <th>6656</th>\n",
       "      <td>228000</td>\n",
       "      <td>402</td>\n",
       "      <td>2006-01-01</td>\n",
       "      <td>6</td>\n",
       "      <td>889</td>\n",
       "      <td>24</td>\n",
       "    </tr>\n",
       "    <tr>\n",
       "      <th>6657</th>\n",
       "      <td>205200</td>\n",
       "      <td>997</td>\n",
       "      <td>2007-01-01</td>\n",
       "      <td>7</td>\n",
       "      <td>889</td>\n",
       "      <td>36</td>\n",
       "    </tr>\n",
       "    <tr>\n",
       "      <th>6658</th>\n",
       "      <td>267550</td>\n",
       "      <td>448</td>\n",
       "      <td>2008-01-01</td>\n",
       "      <td>6</td>\n",
       "      <td>889</td>\n",
       "      <td>48</td>\n",
       "    </tr>\n",
       "  </tbody>\n",
       "</table>\n",
       "</div>"
      ],
      "text/plain": [
       "      quantity  priceMod       date  log_priceMod  mean_price  timeindex\n",
       "6654    267100       849 2004-01-01             7         889          0\n",
       "6655    275845       387 2005-01-01             6         889         12\n",
       "6656    228000       402 2006-01-01             6         889         24\n",
       "6657    205200       997 2007-01-01             7         889         36\n",
       "6658    267550       448 2008-01-01             6         889         48"
      ]
     },
     "execution_count": 55,
     "metadata": {},
     "output_type": "execute_result"
    }
   ],
   "source": [
    "# converting the timeindex into months using timedelta\n",
    "df_mum[\"timeindex\"] = df_mum[\"timeindex\"]/np.timedelta64(1,\"M\")\n",
    "df_mum.head()"
   ]
  },
  {
   "cell_type": "code",
   "execution_count": 56,
   "id": "ac9a8b0e",
   "metadata": {},
   "outputs": [
    {
     "data": {
      "text/html": [
       "<div>\n",
       "<style scoped>\n",
       "    .dataframe tbody tr th:only-of-type {\n",
       "        vertical-align: middle;\n",
       "    }\n",
       "\n",
       "    .dataframe tbody tr th {\n",
       "        vertical-align: top;\n",
       "    }\n",
       "\n",
       "    .dataframe thead th {\n",
       "        text-align: right;\n",
       "    }\n",
       "</style>\n",
       "<table border=\"1\" class=\"dataframe\">\n",
       "  <thead>\n",
       "    <tr style=\"text-align: right;\">\n",
       "      <th></th>\n",
       "      <th>quantity</th>\n",
       "      <th>priceMod</th>\n",
       "      <th>date</th>\n",
       "      <th>log_priceMod</th>\n",
       "      <th>mean_price</th>\n",
       "      <th>timeindex</th>\n",
       "    </tr>\n",
       "  </thead>\n",
       "  <tbody>\n",
       "    <tr>\n",
       "      <th>6795</th>\n",
       "      <td>290350</td>\n",
       "      <td>749</td>\n",
       "      <td>2011-12-01</td>\n",
       "      <td>7</td>\n",
       "      <td>889</td>\n",
       "      <td>95</td>\n",
       "    </tr>\n",
       "    <tr>\n",
       "      <th>6796</th>\n",
       "      <td>218500</td>\n",
       "      <td>1330</td>\n",
       "      <td>2012-12-01</td>\n",
       "      <td>7</td>\n",
       "      <td>889</td>\n",
       "      <td>107</td>\n",
       "    </tr>\n",
       "    <tr>\n",
       "      <th>6797</th>\n",
       "      <td>226385</td>\n",
       "      <td>1639</td>\n",
       "      <td>2013-12-01</td>\n",
       "      <td>7</td>\n",
       "      <td>889</td>\n",
       "      <td>119</td>\n",
       "    </tr>\n",
       "    <tr>\n",
       "      <th>6798</th>\n",
       "      <td>294150</td>\n",
       "      <td>1802</td>\n",
       "      <td>2014-12-01</td>\n",
       "      <td>7</td>\n",
       "      <td>889</td>\n",
       "      <td>131</td>\n",
       "    </tr>\n",
       "    <tr>\n",
       "      <th>6799</th>\n",
       "      <td>302409</td>\n",
       "      <td>1542</td>\n",
       "      <td>2015-12-01</td>\n",
       "      <td>7</td>\n",
       "      <td>889</td>\n",
       "      <td>143</td>\n",
       "    </tr>\n",
       "  </tbody>\n",
       "</table>\n",
       "</div>"
      ],
      "text/plain": [
       "      quantity  priceMod       date  log_priceMod  mean_price  timeindex\n",
       "6795    290350       749 2011-12-01             7         889         95\n",
       "6796    218500      1330 2012-12-01             7         889        107\n",
       "6797    226385      1639 2013-12-01             7         889        119\n",
       "6798    294150      1802 2014-12-01             7         889        131\n",
       "6799    302409      1542 2015-12-01             7         889        143"
      ]
     },
     "execution_count": 56,
     "metadata": {},
     "output_type": "execute_result"
    }
   ],
   "source": [
    "df_mum[\"timeindex\"] = df_mum[\"timeindex\"].round(0).astype(int)\n",
    "df_mum.tail()"
   ]
  },
  {
   "cell_type": "markdown",
   "id": "281bcd06",
   "metadata": {},
   "source": [
    "# Applying The Linear Model"
   ]
  },
  {
   "cell_type": "code",
   "execution_count": 60,
   "id": "6c364424",
   "metadata": {},
   "outputs": [
    {
     "data": {
      "text/html": [
       "<table class=\"simpletable\">\n",
       "<caption>OLS Regression Results</caption>\n",
       "<tr>\n",
       "  <th>Dep. Variable:</th>      <td>log_priceMod</td>   <th>  R-squared:         </th> <td>   0.473</td>\n",
       "</tr>\n",
       "<tr>\n",
       "  <th>Model:</th>                   <td>OLS</td>       <th>  Adj. R-squared:    </th> <td>   0.469</td>\n",
       "</tr>\n",
       "<tr>\n",
       "  <th>Method:</th>             <td>Least Squares</td>  <th>  F-statistic:       </th> <td>   129.3</td>\n",
       "</tr>\n",
       "<tr>\n",
       "  <th>Date:</th>             <td>Sun, 22 May 2022</td> <th>  Prob (F-statistic):</th> <td>8.89e-22</td>\n",
       "</tr>\n",
       "<tr>\n",
       "  <th>Time:</th>                 <td>10:14:04</td>     <th>  Log-Likelihood:    </th> <td> -96.121</td>\n",
       "</tr>\n",
       "<tr>\n",
       "  <th>No. Observations:</th>      <td>   146</td>      <th>  AIC:               </th> <td>   196.2</td>\n",
       "</tr>\n",
       "<tr>\n",
       "  <th>Df Residuals:</th>          <td>   144</td>      <th>  BIC:               </th> <td>   202.2</td>\n",
       "</tr>\n",
       "<tr>\n",
       "  <th>Df Model:</th>              <td>     1</td>      <th>                     </th>     <td> </td>   \n",
       "</tr>\n",
       "<tr>\n",
       "  <th>Covariance Type:</th>      <td>nonrobust</td>    <th>                     </th>     <td> </td>   \n",
       "</tr>\n",
       "</table>\n",
       "<table class=\"simpletable\">\n",
       "<tr>\n",
       "      <td></td>         <th>coef</th>     <th>std err</th>      <th>t</th>      <th>P>|t|</th>  <th>[0.025</th>    <th>0.975]</th>  \n",
       "</tr>\n",
       "<tr>\n",
       "  <th>Intercept</th> <td>    6.0284</td> <td>    0.078</td> <td>   77.785</td> <td> 0.000</td> <td>    5.875</td> <td>    6.182</td>\n",
       "</tr>\n",
       "<tr>\n",
       "  <th>timeindex</th> <td>    0.0105</td> <td>    0.001</td> <td>   11.370</td> <td> 0.000</td> <td>    0.009</td> <td>    0.012</td>\n",
       "</tr>\n",
       "</table>\n",
       "<table class=\"simpletable\">\n",
       "<tr>\n",
       "  <th>Omnibus:</th>       <td> 7.658</td> <th>  Durbin-Watson:     </th> <td>   1.795</td>\n",
       "</tr>\n",
       "<tr>\n",
       "  <th>Prob(Omnibus):</th> <td> 0.022</td> <th>  Jarque-Bera (JB):  </th> <td>   8.054</td>\n",
       "</tr>\n",
       "<tr>\n",
       "  <th>Skew:</th>          <td> 0.566</td> <th>  Prob(JB):          </th> <td>  0.0178</td>\n",
       "</tr>\n",
       "<tr>\n",
       "  <th>Kurtosis:</th>      <td> 2.791</td> <th>  Cond. No.          </th> <td>    167.</td>\n",
       "</tr>\n",
       "</table><br/><br/>Notes:<br/>[1] Standard Errors assume that the covariance matrix of the errors is correctly specified."
      ],
      "text/plain": [
       "<class 'statsmodels.iolib.summary.Summary'>\n",
       "\"\"\"\n",
       "                            OLS Regression Results                            \n",
       "==============================================================================\n",
       "Dep. Variable:           log_priceMod   R-squared:                       0.473\n",
       "Model:                            OLS   Adj. R-squared:                  0.469\n",
       "Method:                 Least Squares   F-statistic:                     129.3\n",
       "Date:                Sun, 22 May 2022   Prob (F-statistic):           8.89e-22\n",
       "Time:                        10:14:04   Log-Likelihood:                -96.121\n",
       "No. Observations:                 146   AIC:                             196.2\n",
       "Df Residuals:                     144   BIC:                             202.2\n",
       "Df Model:                           1                                         \n",
       "Covariance Type:            nonrobust                                         \n",
       "==============================================================================\n",
       "                 coef    std err          t      P>|t|      [0.025      0.975]\n",
       "------------------------------------------------------------------------------\n",
       "Intercept      6.0284      0.078     77.785      0.000       5.875       6.182\n",
       "timeindex      0.0105      0.001     11.370      0.000       0.009       0.012\n",
       "==============================================================================\n",
       "Omnibus:                        7.658   Durbin-Watson:                   1.795\n",
       "Prob(Omnibus):                  0.022   Jarque-Bera (JB):                8.054\n",
       "Skew:                           0.566   Prob(JB):                       0.0178\n",
       "Kurtosis:                       2.791   Cond. No.                         167.\n",
       "==============================================================================\n",
       "\n",
       "Notes:\n",
       "[1] Standard Errors assume that the covariance matrix of the errors is correctly specified.\n",
       "\"\"\""
      ]
     },
     "execution_count": 60,
     "metadata": {},
     "output_type": "execute_result"
    }
   ],
   "source": [
    "linear_model = smf.ols('log_priceMod ~ timeindex', data = df_mum).fit()\n",
    "linear_model.summary()"
   ]
  },
  {
   "cell_type": "code",
   "execution_count": 61,
   "id": "356f23e8",
   "metadata": {},
   "outputs": [
    {
     "data": {
      "text/plain": [
       "array([6.02841087, 6.15450176, 6.28059265, 6.40668353, 6.53277442,\n",
       "       6.65886531, 6.7849562 , 6.91104708, 7.03713797, 7.16322886,\n",
       "       7.28931975, 7.41541064, 7.54150152, 6.03891844, 6.16500933,\n",
       "       6.29110022, 6.41719111, 6.543282  , 6.66937288, 6.79546377,\n",
       "       6.92155466, 7.04764555, 7.17373643, 7.29982732, 7.42591821,\n",
       "       7.5520091 , 6.04942602, 6.17551691, 6.30160779, 6.42769868,\n",
       "       6.55378957, 6.67988046, 6.80597134, 6.93206223, 7.05815312,\n",
       "       7.18424401, 7.3103349 , 7.43642578, 6.05993359, 6.18602448,\n",
       "       6.31211537, 6.43820626, 6.56429714, 6.69038803, 6.81647892,\n",
       "       6.94256981, 7.06866069, 7.19475158, 7.32084247, 7.44693336,\n",
       "       6.07044117, 6.19653205, 6.32262294, 6.44871383, 6.57480472,\n",
       "       6.70089561, 6.82698649, 6.95307738, 7.07916827, 7.20525916,\n",
       "       7.33135004, 7.45744093, 6.08094874, 6.20703963, 6.33313052,\n",
       "       6.4592214 , 6.58531229, 6.71140318, 6.83749407, 6.96358495,\n",
       "       7.08967584, 7.21576673, 7.34185762, 7.46794851, 6.09145631,\n",
       "       6.2175472 , 6.34363809, 6.46972898, 6.59581987, 6.72191075,\n",
       "       6.84800164, 6.97409253, 7.10018342, 7.2262743 , 7.35236519,\n",
       "       7.47845608, 6.10196389, 6.22805478, 6.35414566, 6.48023655,\n",
       "       6.60632744, 6.73241833, 6.85850921, 6.9846001 , 7.11069099,\n",
       "       7.23678188, 7.36287277, 7.48896365, 6.11247146, 6.23856235,\n",
       "       6.36465324, 6.49074413, 6.61683501, 6.7429259 , 6.86901679,\n",
       "       6.99510768, 7.12119856, 7.24728945, 7.37338034, 7.49947123,\n",
       "       6.12297904, 6.24906992, 6.37516081, 6.5012517 , 6.62734259,\n",
       "       6.75343348, 6.87952436, 7.00561525, 7.13170614, 7.25779703,\n",
       "       7.38388791, 7.5099788 , 6.13348661, 6.2595775 , 6.38566839,\n",
       "       6.51175927, 6.63785016, 6.76394105, 6.89003194, 7.01612282,\n",
       "       7.14221371, 7.2683046 , 7.39439549, 7.52048637, 6.14399418,\n",
       "       6.27008507, 6.39617596, 6.52226685, 6.64835774, 6.77444862,\n",
       "       6.90053951, 7.0266304 , 7.15272129, 7.27881217, 7.40490306,\n",
       "       7.53099395])"
      ]
     },
     "execution_count": 61,
     "metadata": {},
     "output_type": "execute_result"
    }
   ],
   "source": [
    "linear_model_pred = linear_model.predict()\n",
    "linear_model_pred"
   ]
  },
  {
   "cell_type": "code",
   "execution_count": 66,
   "id": "ddf5bfd6",
   "metadata": {},
   "outputs": [
    {
     "data": {
      "text/plain": [
       "7.4699"
      ]
     },
     "execution_count": 66,
     "metadata": {},
     "output_type": "execute_result"
    }
   ],
   "source": [
    "# Manual Calculation\n",
    "model_linear_forecast_manual = 0.0093 * 146 + 6.1121\n",
    "model_linear_forecast_manual"
   ]
  },
  {
   "cell_type": "code",
   "execution_count": 67,
   "id": "40a4a34e",
   "metadata": {},
   "outputs": [
    {
     "data": {
      "text/html": [
       "<div>\n",
       "<style scoped>\n",
       "    .dataframe tbody tr th:only-of-type {\n",
       "        vertical-align: middle;\n",
       "    }\n",
       "\n",
       "    .dataframe tbody tr th {\n",
       "        vertical-align: top;\n",
       "    }\n",
       "\n",
       "    .dataframe thead th {\n",
       "        text-align: right;\n",
       "    }\n",
       "</style>\n",
       "<table border=\"1\" class=\"dataframe\">\n",
       "  <thead>\n",
       "    <tr style=\"text-align: right;\">\n",
       "      <th></th>\n",
       "      <th>quantity</th>\n",
       "      <th>priceMod</th>\n",
       "      <th>date</th>\n",
       "      <th>log_priceMod</th>\n",
       "      <th>mean_price</th>\n",
       "      <th>timeindex</th>\n",
       "      <th>linear_price</th>\n",
       "    </tr>\n",
       "  </thead>\n",
       "  <tbody>\n",
       "    <tr>\n",
       "      <th>6654</th>\n",
       "      <td>267100</td>\n",
       "      <td>849</td>\n",
       "      <td>2004-01-01</td>\n",
       "      <td>7</td>\n",
       "      <td>889</td>\n",
       "      <td>0</td>\n",
       "      <td>415</td>\n",
       "    </tr>\n",
       "    <tr>\n",
       "      <th>6655</th>\n",
       "      <td>275845</td>\n",
       "      <td>387</td>\n",
       "      <td>2005-01-01</td>\n",
       "      <td>6</td>\n",
       "      <td>889</td>\n",
       "      <td>12</td>\n",
       "      <td>471</td>\n",
       "    </tr>\n",
       "    <tr>\n",
       "      <th>6656</th>\n",
       "      <td>228000</td>\n",
       "      <td>402</td>\n",
       "      <td>2006-01-01</td>\n",
       "      <td>6</td>\n",
       "      <td>889</td>\n",
       "      <td>24</td>\n",
       "      <td>534</td>\n",
       "    </tr>\n",
       "    <tr>\n",
       "      <th>6657</th>\n",
       "      <td>205200</td>\n",
       "      <td>997</td>\n",
       "      <td>2007-01-01</td>\n",
       "      <td>7</td>\n",
       "      <td>889</td>\n",
       "      <td>36</td>\n",
       "      <td>606</td>\n",
       "    </tr>\n",
       "    <tr>\n",
       "      <th>6658</th>\n",
       "      <td>267550</td>\n",
       "      <td>448</td>\n",
       "      <td>2008-01-01</td>\n",
       "      <td>6</td>\n",
       "      <td>889</td>\n",
       "      <td>48</td>\n",
       "      <td>687</td>\n",
       "    </tr>\n",
       "  </tbody>\n",
       "</table>\n",
       "</div>"
      ],
      "text/plain": [
       "      quantity  priceMod       date  log_priceMod  mean_price  timeindex  \\\n",
       "6654    267100       849 2004-01-01             7         889          0   \n",
       "6655    275845       387 2005-01-01             6         889         12   \n",
       "6656    228000       402 2006-01-01             6         889         24   \n",
       "6657    205200       997 2007-01-01             7         889         36   \n",
       "6658    267550       448 2008-01-01             6         889         48   \n",
       "\n",
       "      linear_price  \n",
       "6654           415  \n",
       "6655           471  \n",
       "6656           534  \n",
       "6657           606  \n",
       "6658           687  "
      ]
     },
     "execution_count": 67,
     "metadata": {},
     "output_type": "execute_result"
    }
   ],
   "source": [
    "df_mum[\"linear_price\"] = np.exp(linear_model_pred)\n",
    "df_mum.head()"
   ]
  },
  {
   "cell_type": "markdown",
   "id": "966f5df7",
   "metadata": {},
   "source": [
    "# Evaluating Using RMSE model"
   ]
  },
  {
   "cell_type": "code",
   "execution_count": 68,
   "id": "c6277d52",
   "metadata": {},
   "outputs": [
    {
     "data": {
      "text/plain": [
       "724.7073314178772"
      ]
     },
     "execution_count": 68,
     "metadata": {},
     "output_type": "execute_result"
    }
   ],
   "source": [
    "linear_model_RMSE = RMSE(df_mum.priceMod, df_mum.linear_price)\n",
    "linear_model_RMSE"
   ]
  },
  {
   "cell_type": "code",
   "execution_count": 69,
   "id": "4ae1c96b",
   "metadata": {},
   "outputs": [
    {
     "data": {
      "text/html": [
       "<div>\n",
       "<style scoped>\n",
       "    .dataframe tbody tr th:only-of-type {\n",
       "        vertical-align: middle;\n",
       "    }\n",
       "\n",
       "    .dataframe tbody tr th {\n",
       "        vertical-align: top;\n",
       "    }\n",
       "\n",
       "    .dataframe thead th {\n",
       "        text-align: right;\n",
       "    }\n",
       "</style>\n",
       "<table border=\"1\" class=\"dataframe\">\n",
       "  <thead>\n",
       "    <tr style=\"text-align: right;\">\n",
       "      <th></th>\n",
       "      <th>Model</th>\n",
       "      <th>Forcast</th>\n",
       "      <th>RMSE</th>\n",
       "    </tr>\n",
       "  </thead>\n",
       "  <tbody>\n",
       "    <tr>\n",
       "      <th>0</th>\n",
       "      <td>Mean Model</td>\n",
       "      <td>889</td>\n",
       "      <td>908</td>\n",
       "    </tr>\n",
       "    <tr>\n",
       "      <th>1</th>\n",
       "      <td>Linear Model</td>\n",
       "      <td>1754</td>\n",
       "      <td>725</td>\n",
       "    </tr>\n",
       "  </tbody>\n",
       "</table>\n",
       "</div>"
      ],
      "text/plain": [
       "          Model Forcast RMSE\n",
       "0    Mean Model     889  908\n",
       "1  Linear Model    1754  725"
      ]
     },
     "execution_count": 69,
     "metadata": {},
     "output_type": "execute_result"
    }
   ],
   "source": [
    "Result_df.loc[1,\"Model\"] = \"Linear Model\"\n",
    "Result_df.loc[1,\"Forcast\"] = np.exp(model_linear_forecast_manual)\n",
    "Result_df.loc[1,\"RMSE\"] = linear_model_RMSE\n",
    "Result_df"
   ]
  },
  {
   "cell_type": "code",
   "execution_count": 70,
   "id": "1391437d",
   "metadata": {},
   "outputs": [
    {
     "data": {
      "text/html": [
       "<table class=\"simpletable\">\n",
       "<caption>OLS Regression Results</caption>\n",
       "<tr>\n",
       "  <th>Dep. Variable:</th>      <td>log_priceMod</td>   <th>  R-squared:         </th> <td>   0.519</td>\n",
       "</tr>\n",
       "<tr>\n",
       "  <th>Model:</th>                   <td>OLS</td>       <th>  Adj. R-squared:    </th> <td>   0.512</td>\n",
       "</tr>\n",
       "<tr>\n",
       "  <th>Method:</th>             <td>Least Squares</td>  <th>  F-statistic:       </th> <td>   77.15</td>\n",
       "</tr>\n",
       "<tr>\n",
       "  <th>Date:</th>             <td>Sun, 22 May 2022</td> <th>  Prob (F-statistic):</th> <td>1.88e-23</td>\n",
       "</tr>\n",
       "<tr>\n",
       "  <th>Time:</th>                 <td>10:27:09</td>     <th>  Log-Likelihood:    </th> <td> -89.461</td>\n",
       "</tr>\n",
       "<tr>\n",
       "  <th>No. Observations:</th>      <td>   146</td>      <th>  AIC:               </th> <td>   184.9</td>\n",
       "</tr>\n",
       "<tr>\n",
       "  <th>Df Residuals:</th>          <td>   143</td>      <th>  BIC:               </th> <td>   193.9</td>\n",
       "</tr>\n",
       "<tr>\n",
       "  <th>Df Model:</th>              <td>     2</td>      <th>                     </th>     <td> </td>   \n",
       "</tr>\n",
       "<tr>\n",
       "  <th>Covariance Type:</th>      <td>nonrobust</td>    <th>                     </th>     <td> </td>   \n",
       "</tr>\n",
       "</table>\n",
       "<table class=\"simpletable\">\n",
       "<tr>\n",
       "          <td></td>            <th>coef</th>     <th>std err</th>      <th>t</th>      <th>P>|t|</th>  <th>[0.025</th>    <th>0.975]</th>  \n",
       "</tr>\n",
       "<tr>\n",
       "  <th>Intercept</th>        <td>   15.2955</td> <td>    2.508</td> <td>    6.097</td> <td> 0.000</td> <td>   10.337</td> <td>   20.254</td>\n",
       "</tr>\n",
       "<tr>\n",
       "  <th>timeindex</th>        <td>    0.0109</td> <td>    0.001</td> <td>   12.216</td> <td> 0.000</td> <td>    0.009</td> <td>    0.013</td>\n",
       "</tr>\n",
       "<tr>\n",
       "  <th>np.log(quantity)</th> <td>   -0.7562</td> <td>    0.205</td> <td>   -3.696</td> <td> 0.000</td> <td>   -1.161</td> <td>   -0.352</td>\n",
       "</tr>\n",
       "</table>\n",
       "<table class=\"simpletable\">\n",
       "<tr>\n",
       "  <th>Omnibus:</th>       <td> 4.787</td> <th>  Durbin-Watson:     </th> <td>   1.786</td>\n",
       "</tr>\n",
       "<tr>\n",
       "  <th>Prob(Omnibus):</th> <td> 0.091</td> <th>  Jarque-Bera (JB):  </th> <td>   4.880</td>\n",
       "</tr>\n",
       "<tr>\n",
       "  <th>Skew:</th>          <td> 0.429</td> <th>  Prob(JB):          </th> <td>  0.0872</td>\n",
       "</tr>\n",
       "<tr>\n",
       "  <th>Kurtosis:</th>      <td> 2.742</td> <th>  Cond. No.          </th> <td>5.70e+03</td>\n",
       "</tr>\n",
       "</table><br/><br/>Notes:<br/>[1] Standard Errors assume that the covariance matrix of the errors is correctly specified.<br/>[2] The condition number is large, 5.7e+03. This might indicate that there are<br/>strong multicollinearity or other numerical problems."
      ],
      "text/plain": [
       "<class 'statsmodels.iolib.summary.Summary'>\n",
       "\"\"\"\n",
       "                            OLS Regression Results                            \n",
       "==============================================================================\n",
       "Dep. Variable:           log_priceMod   R-squared:                       0.519\n",
       "Model:                            OLS   Adj. R-squared:                  0.512\n",
       "Method:                 Least Squares   F-statistic:                     77.15\n",
       "Date:                Sun, 22 May 2022   Prob (F-statistic):           1.88e-23\n",
       "Time:                        10:27:09   Log-Likelihood:                -89.461\n",
       "No. Observations:                 146   AIC:                             184.9\n",
       "Df Residuals:                     143   BIC:                             193.9\n",
       "Df Model:                           2                                         \n",
       "Covariance Type:            nonrobust                                         \n",
       "====================================================================================\n",
       "                       coef    std err          t      P>|t|      [0.025      0.975]\n",
       "------------------------------------------------------------------------------------\n",
       "Intercept           15.2955      2.508      6.097      0.000      10.337      20.254\n",
       "timeindex            0.0109      0.001     12.216      0.000       0.009       0.013\n",
       "np.log(quantity)    -0.7562      0.205     -3.696      0.000      -1.161      -0.352\n",
       "==============================================================================\n",
       "Omnibus:                        4.787   Durbin-Watson:                   1.786\n",
       "Prob(Omnibus):                  0.091   Jarque-Bera (JB):                4.880\n",
       "Skew:                           0.429   Prob(JB):                       0.0872\n",
       "Kurtosis:                       2.742   Cond. No.                     5.70e+03\n",
       "==============================================================================\n",
       "\n",
       "Notes:\n",
       "[1] Standard Errors assume that the covariance matrix of the errors is correctly specified.\n",
       "[2] The condition number is large, 5.7e+03. This might indicate that there are\n",
       "strong multicollinearity or other numerical problems.\n",
       "\"\"\""
      ]
     },
     "execution_count": 70,
     "metadata": {},
     "output_type": "execute_result"
    }
   ],
   "source": [
    "linear_model_quant = smf.ols('log_priceMod ~ timeindex + np.log(quantity)', data = df_mum).fit()\n",
    "linear_model_quant.summary()"
   ]
  },
  {
   "cell_type": "code",
   "execution_count": 71,
   "id": "548f1aa5",
   "metadata": {},
   "outputs": [
    {
     "data": {
      "image/png": "[encoded data removed]",
      "text/plain": [
       "<Figure size 432x288 with 1 Axes>"
      ]
     },
     "metadata": {
      "needs_background": "light"
     },
     "output_type": "display_data"
    }
   ],
   "source": [
    "df_mum[\"linear_price_quant\"] = np.exp(linear_model_quant.predict())\n",
    "df_mum.plot(kind = \"line\", x=\"timeindex\", y = \"quantity\")\n",
    "plt.show()"
   ]
  },
  {
   "cell_type": "markdown",
   "id": "3a72a838",
   "metadata": {},
   "source": [
    "# Random Walk Model"
   ]
  },
  {
   "cell_type": "code",
   "execution_count": 72,
   "id": "7eeaa651",
   "metadata": {},
   "outputs": [
    {
     "data": {
      "text/html": [
       "<div>\n",
       "<style scoped>\n",
       "    .dataframe tbody tr th:only-of-type {\n",
       "        vertical-align: middle;\n",
       "    }\n",
       "\n",
       "    .dataframe tbody tr th {\n",
       "        vertical-align: top;\n",
       "    }\n",
       "\n",
       "    .dataframe thead th {\n",
       "        text-align: right;\n",
       "    }\n",
       "</style>\n",
       "<table border=\"1\" class=\"dataframe\">\n",
       "  <thead>\n",
       "    <tr style=\"text-align: right;\">\n",
       "      <th></th>\n",
       "      <th>quantity</th>\n",
       "      <th>priceMod</th>\n",
       "      <th>date</th>\n",
       "      <th>log_priceMod</th>\n",
       "      <th>mean_price</th>\n",
       "      <th>timeindex</th>\n",
       "      <th>linear_price</th>\n",
       "      <th>linear_price_quant</th>\n",
       "      <th>shift_log_priceMod</th>\n",
       "    </tr>\n",
       "  </thead>\n",
       "  <tbody>\n",
       "    <tr>\n",
       "      <th>6654</th>\n",
       "      <td>267100</td>\n",
       "      <td>849</td>\n",
       "      <td>2004-01-01</td>\n",
       "      <td>7</td>\n",
       "      <td>889</td>\n",
       "      <td>0</td>\n",
       "      <td>415</td>\n",
       "      <td>346</td>\n",
       "      <td>NaN</td>\n",
       "    </tr>\n",
       "    <tr>\n",
       "      <th>6655</th>\n",
       "      <td>275845</td>\n",
       "      <td>387</td>\n",
       "      <td>2005-01-01</td>\n",
       "      <td>6</td>\n",
       "      <td>889</td>\n",
       "      <td>12</td>\n",
       "      <td>471</td>\n",
       "      <td>385</td>\n",
       "      <td>7</td>\n",
       "    </tr>\n",
       "    <tr>\n",
       "      <th>6656</th>\n",
       "      <td>228000</td>\n",
       "      <td>402</td>\n",
       "      <td>2006-01-01</td>\n",
       "      <td>6</td>\n",
       "      <td>889</td>\n",
       "      <td>24</td>\n",
       "      <td>534</td>\n",
       "      <td>507</td>\n",
       "      <td>6</td>\n",
       "    </tr>\n",
       "    <tr>\n",
       "      <th>6657</th>\n",
       "      <td>205200</td>\n",
       "      <td>997</td>\n",
       "      <td>2007-01-01</td>\n",
       "      <td>7</td>\n",
       "      <td>889</td>\n",
       "      <td>36</td>\n",
       "      <td>606</td>\n",
       "      <td>625</td>\n",
       "      <td>6</td>\n",
       "    </tr>\n",
       "    <tr>\n",
       "      <th>6658</th>\n",
       "      <td>267550</td>\n",
       "      <td>448</td>\n",
       "      <td>2008-01-01</td>\n",
       "      <td>6</td>\n",
       "      <td>889</td>\n",
       "      <td>48</td>\n",
       "      <td>687</td>\n",
       "      <td>583</td>\n",
       "      <td>7</td>\n",
       "    </tr>\n",
       "  </tbody>\n",
       "</table>\n",
       "</div>"
      ],
      "text/plain": [
       "      quantity  priceMod       date  log_priceMod  mean_price  timeindex  \\\n",
       "6654    267100       849 2004-01-01             7         889          0   \n",
       "6655    275845       387 2005-01-01             6         889         12   \n",
       "6656    228000       402 2006-01-01             6         889         24   \n",
       "6657    205200       997 2007-01-01             7         889         36   \n",
       "6658    267550       448 2008-01-01             6         889         48   \n",
       "\n",
       "      linear_price  linear_price_quant  shift_log_priceMod  \n",
       "6654           415                 346                 NaN  \n",
       "6655           471                 385                   7  \n",
       "6656           534                 507                   6  \n",
       "6657           606                 625                   6  \n",
       "6658           687                 583                   7  "
      ]
     },
     "execution_count": 72,
     "metadata": {},
     "output_type": "execute_result"
    }
   ],
   "source": [
    "df_mum[\"shift_log_priceMod\"] = df_mum.log_priceMod.shift()\n",
    "df_mum.head()"
   ]
  },
  {
   "cell_type": "code",
   "execution_count": 73,
   "id": "964741fc",
   "metadata": {},
   "outputs": [
    {
     "data": {
      "text/plain": [
       "<AxesSubplot:>"
      ]
     },
     "execution_count": 73,
     "metadata": {},
     "output_type": "execute_result"
    },
    {
     "data": {
      "image/png": "[encoded data removed]",
      "text/plain": [
       "<Figure size 432x288 with 1 Axes>"
      ]
     },
     "metadata": {
      "needs_background": "light"
     },
     "output_type": "display_data"
    }
   ],
   "source": [
    "df_mum[\"log_priceMod_diff\"] = df_mum.log_priceMod - df_mum.shift_log_priceMod\n",
    "df_mum.log_priceMod_diff.plot()"
   ]
  },
  {
   "cell_type": "code",
   "execution_count": 74,
   "id": "74958778",
   "metadata": {},
   "outputs": [
    {
     "data": {
      "text/html": [
       "<div>\n",
       "<style scoped>\n",
       "    .dataframe tbody tr th:only-of-type {\n",
       "        vertical-align: middle;\n",
       "    }\n",
       "\n",
       "    .dataframe tbody tr th {\n",
       "        vertical-align: top;\n",
       "    }\n",
       "\n",
       "    .dataframe thead th {\n",
       "        text-align: right;\n",
       "    }\n",
       "</style>\n",
       "<table border=\"1\" class=\"dataframe\">\n",
       "  <thead>\n",
       "    <tr style=\"text-align: right;\">\n",
       "      <th></th>\n",
       "      <th>quantity</th>\n",
       "      <th>priceMod</th>\n",
       "      <th>date</th>\n",
       "      <th>log_priceMod</th>\n",
       "      <th>mean_price</th>\n",
       "      <th>timeindex</th>\n",
       "      <th>linear_price</th>\n",
       "      <th>linear_price_quant</th>\n",
       "      <th>shift_log_priceMod</th>\n",
       "      <th>log_priceMod_diff</th>\n",
       "      <th>random_price</th>\n",
       "    </tr>\n",
       "  </thead>\n",
       "  <tbody>\n",
       "    <tr>\n",
       "      <th>6654</th>\n",
       "      <td>267100</td>\n",
       "      <td>849</td>\n",
       "      <td>2004-01-01</td>\n",
       "      <td>7</td>\n",
       "      <td>889</td>\n",
       "      <td>0</td>\n",
       "      <td>415</td>\n",
       "      <td>346</td>\n",
       "      <td>NaN</td>\n",
       "      <td>NaN</td>\n",
       "      <td>NaN</td>\n",
       "    </tr>\n",
       "    <tr>\n",
       "      <th>6655</th>\n",
       "      <td>275845</td>\n",
       "      <td>387</td>\n",
       "      <td>2005-01-01</td>\n",
       "      <td>6</td>\n",
       "      <td>889</td>\n",
       "      <td>12</td>\n",
       "      <td>471</td>\n",
       "      <td>385</td>\n",
       "      <td>7</td>\n",
       "      <td>-8e-01</td>\n",
       "      <td>849</td>\n",
       "    </tr>\n",
       "    <tr>\n",
       "      <th>6656</th>\n",
       "      <td>228000</td>\n",
       "      <td>402</td>\n",
       "      <td>2006-01-01</td>\n",
       "      <td>6</td>\n",
       "      <td>889</td>\n",
       "      <td>24</td>\n",
       "      <td>534</td>\n",
       "      <td>507</td>\n",
       "      <td>6</td>\n",
       "      <td>4e-02</td>\n",
       "      <td>387</td>\n",
       "    </tr>\n",
       "    <tr>\n",
       "      <th>6657</th>\n",
       "      <td>205200</td>\n",
       "      <td>997</td>\n",
       "      <td>2007-01-01</td>\n",
       "      <td>7</td>\n",
       "      <td>889</td>\n",
       "      <td>36</td>\n",
       "      <td>606</td>\n",
       "      <td>625</td>\n",
       "      <td>6</td>\n",
       "      <td>9e-01</td>\n",
       "      <td>402</td>\n",
       "    </tr>\n",
       "    <tr>\n",
       "      <th>6658</th>\n",
       "      <td>267550</td>\n",
       "      <td>448</td>\n",
       "      <td>2008-01-01</td>\n",
       "      <td>6</td>\n",
       "      <td>889</td>\n",
       "      <td>48</td>\n",
       "      <td>687</td>\n",
       "      <td>583</td>\n",
       "      <td>7</td>\n",
       "      <td>-8e-01</td>\n",
       "      <td>997</td>\n",
       "    </tr>\n",
       "  </tbody>\n",
       "</table>\n",
       "</div>"
      ],
      "text/plain": [
       "      quantity  priceMod       date  log_priceMod  mean_price  timeindex  \\\n",
       "6654    267100       849 2004-01-01             7         889          0   \n",
       "6655    275845       387 2005-01-01             6         889         12   \n",
       "6656    228000       402 2006-01-01             6         889         24   \n",
       "6657    205200       997 2007-01-01             7         889         36   \n",
       "6658    267550       448 2008-01-01             6         889         48   \n",
       "\n",
       "      linear_price  linear_price_quant  shift_log_priceMod  log_priceMod_diff  \\\n",
       "6654           415                 346                 NaN                NaN   \n",
       "6655           471                 385                   7             -8e-01   \n",
       "6656           534                 507                   6              4e-02   \n",
       "6657           606                 625                   6              9e-01   \n",
       "6658           687                 583                   7             -8e-01   \n",
       "\n",
       "      random_price  \n",
       "6654           NaN  \n",
       "6655           849  \n",
       "6656           387  \n",
       "6657           402  \n",
       "6658           997  "
      ]
     },
     "execution_count": 74,
     "metadata": {},
     "output_type": "execute_result"
    }
   ],
   "source": [
    "df_mum[\"random_price\"] = np.exp(df_mum.shift_log_priceMod)\n",
    "df_mum.head()"
   ]
  },
  {
   "cell_type": "markdown",
   "id": "e794e180",
   "metadata": {},
   "source": [
    "# Evaluating Using RMSE model"
   ]
  },
  {
   "cell_type": "code",
   "execution_count": 75,
   "id": "e4459750",
   "metadata": {},
   "outputs": [
    {
     "data": {
      "text/plain": [
       "1132.4887241579172"
      ]
     },
     "execution_count": 75,
     "metadata": {},
     "output_type": "execute_result"
    }
   ],
   "source": [
    "random_model_RMSE = RMSE(df_mum.priceMod, df_mum.random_price)\n",
    "random_model_RMSE"
   ]
  },
  {
   "cell_type": "code",
   "execution_count": 77,
   "id": "13bc2980",
   "metadata": {},
   "outputs": [
    {
     "data": {
      "text/plain": [
       "<AxesSubplot:>"
      ]
     },
     "execution_count": 77,
     "metadata": {},
     "output_type": "execute_result"
    },
    {
     "data": {
      "image/png": "[encoded data removed]",
      "text/plain": [
       "<Figure size 432x288 with 1 Axes>"
      ]
     },
     "metadata": {
      "needs_background": "light"
     },
     "output_type": "display_data"
    }
   ],
   "source": [
    "# smoothing the value using 12 month moving average\n",
    "df_mum[\"log_priceMod_MA12\"] = df_mum.log_priceMod.rolling(12).mean()\n",
    "df_mum.plot(kind=\"line\", y=[\"log_priceMod_MA12\", \"log_priceMod\"])"
   ]
  },
  {
   "cell_type": "code",
   "execution_count": 78,
   "id": "1f690aef",
   "metadata": {},
   "outputs": [
    {
     "data": {
      "text/html": [
       "<div>\n",
       "<style scoped>\n",
       "    .dataframe tbody tr th:only-of-type {\n",
       "        vertical-align: middle;\n",
       "    }\n",
       "\n",
       "    .dataframe tbody tr th {\n",
       "        vertical-align: top;\n",
       "    }\n",
       "\n",
       "    .dataframe thead th {\n",
       "        text-align: right;\n",
       "    }\n",
       "</style>\n",
       "<table border=\"1\" class=\"dataframe\">\n",
       "  <thead>\n",
       "    <tr style=\"text-align: right;\">\n",
       "      <th></th>\n",
       "      <th>quantity</th>\n",
       "      <th>priceMod</th>\n",
       "      <th>date</th>\n",
       "      <th>log_priceMod</th>\n",
       "      <th>mean_price</th>\n",
       "      <th>timeindex</th>\n",
       "      <th>linear_price</th>\n",
       "      <th>linear_price_quant</th>\n",
       "      <th>shift_log_priceMod</th>\n",
       "      <th>log_priceMod_diff</th>\n",
       "      <th>random_price</th>\n",
       "      <th>log_priceMod_MA12</th>\n",
       "      <th>MA12_price</th>\n",
       "    </tr>\n",
       "  </thead>\n",
       "  <tbody>\n",
       "    <tr>\n",
       "      <th>6704</th>\n",
       "      <td>166430</td>\n",
       "      <td>405</td>\n",
       "      <td>2004-05-01</td>\n",
       "      <td>6</td>\n",
       "      <td>889</td>\n",
       "      <td>4</td>\n",
       "      <td>433</td>\n",
       "      <td>517</td>\n",
       "      <td>7</td>\n",
       "      <td>-1e+00</td>\n",
       "      <td>1327</td>\n",
       "      <td>6</td>\n",
       "      <td>574</td>\n",
       "    </tr>\n",
       "    <tr>\n",
       "      <th>6701</th>\n",
       "      <td>204200</td>\n",
       "      <td>981</td>\n",
       "      <td>2013-04-01</td>\n",
       "      <td>7</td>\n",
       "      <td>889</td>\n",
       "      <td>111</td>\n",
       "      <td>1332</td>\n",
       "      <td>1422</td>\n",
       "      <td>6</td>\n",
       "      <td>6e-01</td>\n",
       "      <td>544</td>\n",
       "      <td>6</td>\n",
       "      <td>572</td>\n",
       "    </tr>\n",
       "    <tr>\n",
       "      <th>6786</th>\n",
       "      <td>240700</td>\n",
       "      <td>1821</td>\n",
       "      <td>2014-11-01</td>\n",
       "      <td>8</td>\n",
       "      <td>889</td>\n",
       "      <td>130</td>\n",
       "      <td>1627</td>\n",
       "      <td>1544</td>\n",
       "      <td>8</td>\n",
       "      <td>-6e-01</td>\n",
       "      <td>3484</td>\n",
       "      <td>7</td>\n",
       "      <td>1400</td>\n",
       "    </tr>\n",
       "    <tr>\n",
       "      <th>6764</th>\n",
       "      <td>239880</td>\n",
       "      <td>547</td>\n",
       "      <td>2004-10-01</td>\n",
       "      <td>6</td>\n",
       "      <td>889</td>\n",
       "      <td>9</td>\n",
       "      <td>456</td>\n",
       "      <td>414</td>\n",
       "      <td>8</td>\n",
       "      <td>-2e+00</td>\n",
       "      <td>4714</td>\n",
       "      <td>7</td>\n",
       "      <td>1189</td>\n",
       "    </tr>\n",
       "    <tr>\n",
       "      <th>6717</th>\n",
       "      <td>221050</td>\n",
       "      <td>385</td>\n",
       "      <td>2005-06-01</td>\n",
       "      <td>6</td>\n",
       "      <td>889</td>\n",
       "      <td>17</td>\n",
       "      <td>496</td>\n",
       "      <td>480</td>\n",
       "      <td>6</td>\n",
       "      <td>-2e-01</td>\n",
       "      <td>455</td>\n",
       "      <td>6</td>\n",
       "      <td>614</td>\n",
       "    </tr>\n",
       "  </tbody>\n",
       "</table>\n",
       "</div>"
      ],
      "text/plain": [
       "      quantity  priceMod       date  log_priceMod  mean_price  timeindex  \\\n",
       "6704    166430       405 2004-05-01             6         889          4   \n",
       "6701    204200       981 2013-04-01             7         889        111   \n",
       "6786    240700      1821 2014-11-01             8         889        130   \n",
       "6764    239880       547 2004-10-01             6         889          9   \n",
       "6717    221050       385 2005-06-01             6         889         17   \n",
       "\n",
       "      linear_price  linear_price_quant  shift_log_priceMod  log_priceMod_diff  \\\n",
       "6704           433                 517                   7             -1e+00   \n",
       "6701          1332                1422                   6              6e-01   \n",
       "6786          1627                1544                   8             -6e-01   \n",
       "6764           456                 414                   8             -2e+00   \n",
       "6717           496                 480                   6             -2e-01   \n",
       "\n",
       "      random_price  log_priceMod_MA12  MA12_price  \n",
       "6704          1327                  6         574  \n",
       "6701           544                  6         572  \n",
       "6786          3484                  7        1400  \n",
       "6764          4714                  7        1189  \n",
       "6717           455                  6         614  "
      ]
     },
     "execution_count": 78,
     "metadata": {},
     "output_type": "execute_result"
    }
   ],
   "source": [
    "df_mum[\"MA12_price\"] = np.exp(df_mum.log_priceMod_MA12)\n",
    "df_mum.sample(5)"
   ]
  },
  {
   "cell_type": "code",
   "execution_count": 80,
   "id": "08f02b7c",
   "metadata": {},
   "outputs": [],
   "source": [
    "MA_model_forcast = df_mum.log_priceMod_MA12.tail(12).mean()"
   ]
  },
  {
   "cell_type": "markdown",
   "id": "9402476a",
   "metadata": {},
   "source": [
    "# Evaluating MA12 Model using RMSE Model"
   ]
  },
  {
   "cell_type": "code",
   "execution_count": 82,
   "id": "a30cdf02",
   "metadata": {},
   "outputs": [
    {
     "data": {
      "text/plain": [
       "841.8072265328709"
      ]
     },
     "execution_count": 82,
     "metadata": {},
     "output_type": "execute_result"
    }
   ],
   "source": [
    "MA12_model_RMSE = RMSE(df_mum.priceMod, df_mum.MA12_price)\n",
    "MA12_model_RMSE"
   ]
  },
  {
   "cell_type": "code",
   "execution_count": 83,
   "id": "f70cd8ba",
   "metadata": {},
   "outputs": [
    {
     "data": {
      "text/html": [
       "<div>\n",
       "<style scoped>\n",
       "    .dataframe tbody tr th:only-of-type {\n",
       "        vertical-align: middle;\n",
       "    }\n",
       "\n",
       "    .dataframe tbody tr th {\n",
       "        vertical-align: top;\n",
       "    }\n",
       "\n",
       "    .dataframe thead th {\n",
       "        text-align: right;\n",
       "    }\n",
       "</style>\n",
       "<table border=\"1\" class=\"dataframe\">\n",
       "  <thead>\n",
       "    <tr style=\"text-align: right;\">\n",
       "      <th></th>\n",
       "      <th>Model</th>\n",
       "      <th>Forcast</th>\n",
       "      <th>RMSE</th>\n",
       "    </tr>\n",
       "  </thead>\n",
       "  <tbody>\n",
       "    <tr>\n",
       "      <th>0</th>\n",
       "      <td>Mean Model</td>\n",
       "      <td>889</td>\n",
       "      <td>908</td>\n",
       "    </tr>\n",
       "    <tr>\n",
       "      <th>1</th>\n",
       "      <td>Linear Model</td>\n",
       "      <td>1754</td>\n",
       "      <td>725</td>\n",
       "    </tr>\n",
       "    <tr>\n",
       "      <th>2</th>\n",
       "      <td>Random Model</td>\n",
       "      <td>NaN</td>\n",
       "      <td>NaN</td>\n",
       "    </tr>\n",
       "    <tr>\n",
       "      <th>3</th>\n",
       "      <td>Moving Average 12</td>\n",
       "      <td>1255</td>\n",
       "      <td>842</td>\n",
       "    </tr>\n",
       "  </tbody>\n",
       "</table>\n",
       "</div>"
      ],
      "text/plain": [
       "               Model Forcast RMSE\n",
       "0         Mean Model     889  908\n",
       "1       Linear Model    1754  725\n",
       "2       Random Model     NaN  NaN\n",
       "3  Moving Average 12    1255  842"
      ]
     },
     "execution_count": 83,
     "metadata": {},
     "output_type": "execute_result"
    }
   ],
   "source": [
    "Result_df.loc[3,\"Model\"] = \"Moving Average 12\"\n",
    "Result_df.loc[3,\"Forcast\"] = np.exp(MA_model_forcast)\n",
    "Result_df.loc[3,\"RMSE\"] = MA12_model_RMSE\n",
    "Result_df.head()"
   ]
  },
  {
   "cell_type": "code",
   "execution_count": 84,
   "id": "322d2ea6",
   "metadata": {},
   "outputs": [],
   "source": [
    "def adf(ts):\n",
    "    # Determing rolling statistics\n",
    "    rolmean = ts.rolling(window=12).mean()\n",
    "    rolstd = ts.rolling(window=12).std()\n",
    "\n",
    "    #Plot rolling statistics:\n",
    "    ts.plot(color='blue',label='Original')\n",
    "    mean = plt.plot(rolmean, color='red', label='Rolling Mean')\n",
    "    std = plt.plot(rolstd, color='black', label = 'Rolling Std')\n",
    "    plt.legend(loc='best')\n",
    "    plt.title('Rolling Mean & Standard Deviation')\n",
    "    plt.show(block=False)\n",
    "    # Calculate ADF factors\n",
    "    adftest = adfuller(ts, autolag='AIC')\n",
    "    adfoutput = pd.Series(adftest[0:4], index=['Test Statistic','p-value','# of Lags Used',\n",
    "                                              'Number of Observations Used'])\n",
    "    for key,value in adftest[4].items():\n",
    "        adfoutput['Critical Value (%s)'%key] = value\n",
    "    return adfoutput"
   ]
  },
  {
   "cell_type": "code",
   "execution_count": 85,
   "id": "ca725f55",
   "metadata": {},
   "outputs": [
    {
     "data": {
      "image/png": "[encoded data removed]",
      "text/plain": [
       "<Figure size 432x288 with 1 Axes>"
      ]
     },
     "metadata": {
      "needs_background": "light"
     },
     "output_type": "display_data"
    },
    {
     "data": {
      "text/plain": [
       "Test Statistic                -2e+00\n",
       "p-value                        3e-01\n",
       "# of Lags Used                 1e+01\n",
       "Number of Observations Used    1e+02\n",
       "Critical Value (1%)           -3e+00\n",
       "Critical Value (5%)           -3e+00\n",
       "Critical Value (10%)          -3e+00\n",
       "dtype: float64"
      ]
     },
     "execution_count": 85,
     "metadata": {},
     "output_type": "execute_result"
    }
   ],
   "source": [
    "# Test remaining part for Stationary\n",
    "ts = df_mum.log_priceMod - df_mum.log_priceMod_MA12\n",
    "ts.dropna(inplace= True)\n",
    "adf(ts)"
   ]
  },
  {
   "cell_type": "code",
   "execution_count": 86,
   "id": "baef0fe2",
   "metadata": {},
   "outputs": [
    {
     "data": {
      "image/png": "[encoded data removed]",
      "text/plain": [
       "<Figure size 432x288 with 1 Axes>"
      ]
     },
     "metadata": {
      "needs_background": "light"
     },
     "output_type": "display_data"
    },
    {
     "data": {
      "text/plain": [
       "Test Statistic                -3e+00\n",
       "p-value                        3e-02\n",
       "# of Lags Used                 1e+01\n",
       "Number of Observations Used    1e+02\n",
       "Critical Value (1%)           -3e+00\n",
       "Critical Value (5%)           -3e+00\n",
       "Critical Value (10%)          -3e+00\n",
       "dtype: float64"
      ]
     },
     "execution_count": 86,
     "metadata": {},
     "output_type": "execute_result"
    }
   ],
   "source": [
    "# Test remaining part for Stationary\n",
    "ts = df_mum.log_priceMod_diff\n",
    "ts.dropna(inplace = True)\n",
    "adf(ts)"
   ]
  },
  {
   "cell_type": "markdown",
   "id": "daabf26b",
   "metadata": {},
   "source": [
    "# Time Series Decomposition"
   ]
  },
  {
   "cell_type": "code",
   "execution_count": 87,
   "id": "a80b4b8e",
   "metadata": {},
   "outputs": [
    {
     "data": {
      "text/html": [
       "<div>\n",
       "<style scoped>\n",
       "    .dataframe tbody tr th:only-of-type {\n",
       "        vertical-align: middle;\n",
       "    }\n",
       "\n",
       "    .dataframe tbody tr th {\n",
       "        vertical-align: top;\n",
       "    }\n",
       "\n",
       "    .dataframe thead th {\n",
       "        text-align: right;\n",
       "    }\n",
       "</style>\n",
       "<table border=\"1\" class=\"dataframe\">\n",
       "  <thead>\n",
       "    <tr style=\"text-align: right;\">\n",
       "      <th></th>\n",
       "      <th>quantity</th>\n",
       "      <th>priceMod</th>\n",
       "      <th>date</th>\n",
       "      <th>log_priceMod</th>\n",
       "      <th>mean_price</th>\n",
       "      <th>timeindex</th>\n",
       "      <th>linear_price</th>\n",
       "      <th>linear_price_quant</th>\n",
       "      <th>shift_log_priceMod</th>\n",
       "      <th>log_priceMod_diff</th>\n",
       "      <th>random_price</th>\n",
       "      <th>log_priceMod_MA12</th>\n",
       "      <th>MA12_price</th>\n",
       "    </tr>\n",
       "    <tr>\n",
       "      <th>date</th>\n",
       "      <th></th>\n",
       "      <th></th>\n",
       "      <th></th>\n",
       "      <th></th>\n",
       "      <th></th>\n",
       "      <th></th>\n",
       "      <th></th>\n",
       "      <th></th>\n",
       "      <th></th>\n",
       "      <th></th>\n",
       "      <th></th>\n",
       "      <th></th>\n",
       "      <th></th>\n",
       "    </tr>\n",
       "  </thead>\n",
       "  <tbody>\n",
       "    <tr>\n",
       "      <th>2004-01-01</th>\n",
       "      <td>267100</td>\n",
       "      <td>849</td>\n",
       "      <td>2004-01-01</td>\n",
       "      <td>7</td>\n",
       "      <td>889</td>\n",
       "      <td>0</td>\n",
       "      <td>415</td>\n",
       "      <td>346</td>\n",
       "      <td>NaN</td>\n",
       "      <td>NaN</td>\n",
       "      <td>NaN</td>\n",
       "      <td>NaN</td>\n",
       "      <td>NaN</td>\n",
       "    </tr>\n",
       "    <tr>\n",
       "      <th>2005-01-01</th>\n",
       "      <td>275845</td>\n",
       "      <td>387</td>\n",
       "      <td>2005-01-01</td>\n",
       "      <td>6</td>\n",
       "      <td>889</td>\n",
       "      <td>12</td>\n",
       "      <td>471</td>\n",
       "      <td>385</td>\n",
       "      <td>7</td>\n",
       "      <td>-8e-01</td>\n",
       "      <td>849</td>\n",
       "      <td>NaN</td>\n",
       "      <td>NaN</td>\n",
       "    </tr>\n",
       "    <tr>\n",
       "      <th>2006-01-01</th>\n",
       "      <td>228000</td>\n",
       "      <td>402</td>\n",
       "      <td>2006-01-01</td>\n",
       "      <td>6</td>\n",
       "      <td>889</td>\n",
       "      <td>24</td>\n",
       "      <td>534</td>\n",
       "      <td>507</td>\n",
       "      <td>6</td>\n",
       "      <td>4e-02</td>\n",
       "      <td>387</td>\n",
       "      <td>NaN</td>\n",
       "      <td>NaN</td>\n",
       "    </tr>\n",
       "    <tr>\n",
       "      <th>2007-01-01</th>\n",
       "      <td>205200</td>\n",
       "      <td>997</td>\n",
       "      <td>2007-01-01</td>\n",
       "      <td>7</td>\n",
       "      <td>889</td>\n",
       "      <td>36</td>\n",
       "      <td>606</td>\n",
       "      <td>625</td>\n",
       "      <td>6</td>\n",
       "      <td>9e-01</td>\n",
       "      <td>402</td>\n",
       "      <td>NaN</td>\n",
       "      <td>NaN</td>\n",
       "    </tr>\n",
       "    <tr>\n",
       "      <th>2008-01-01</th>\n",
       "      <td>267550</td>\n",
       "      <td>448</td>\n",
       "      <td>2008-01-01</td>\n",
       "      <td>6</td>\n",
       "      <td>889</td>\n",
       "      <td>48</td>\n",
       "      <td>687</td>\n",
       "      <td>583</td>\n",
       "      <td>7</td>\n",
       "      <td>-8e-01</td>\n",
       "      <td>997</td>\n",
       "      <td>NaN</td>\n",
       "      <td>NaN</td>\n",
       "    </tr>\n",
       "  </tbody>\n",
       "</table>\n",
       "</div>"
      ],
      "text/plain": [
       "            quantity  priceMod       date  log_priceMod  mean_price  \\\n",
       "date                                                                  \n",
       "2004-01-01    267100       849 2004-01-01             7         889   \n",
       "2005-01-01    275845       387 2005-01-01             6         889   \n",
       "2006-01-01    228000       402 2006-01-01             6         889   \n",
       "2007-01-01    205200       997 2007-01-01             7         889   \n",
       "2008-01-01    267550       448 2008-01-01             6         889   \n",
       "\n",
       "            timeindex  linear_price  linear_price_quant  shift_log_priceMod  \\\n",
       "date                                                                          \n",
       "2004-01-01          0           415                 346                 NaN   \n",
       "2005-01-01         12           471                 385                   7   \n",
       "2006-01-01         24           534                 507                   6   \n",
       "2007-01-01         36           606                 625                   6   \n",
       "2008-01-01         48           687                 583                   7   \n",
       "\n",
       "            log_priceMod_diff  random_price  log_priceMod_MA12  MA12_price  \n",
       "date                                                                        \n",
       "2004-01-01                NaN           NaN                NaN         NaN  \n",
       "2005-01-01             -8e-01           849                NaN         NaN  \n",
       "2006-01-01              4e-02           387                NaN         NaN  \n",
       "2007-01-01              9e-01           402                NaN         NaN  \n",
       "2008-01-01             -8e-01           997                NaN         NaN  "
      ]
     },
     "execution_count": 87,
     "metadata": {},
     "output_type": "execute_result"
    }
   ],
   "source": [
    "from statsmodels.tsa.seasonal import seasonal_decompose\n",
    "\n",
    "df_mum.index = pd.to_datetime(df_mum.date)\n",
    "df_mum.head()"
   ]
  },
  {
   "cell_type": "code",
   "execution_count": 100,
   "id": "68039eb7",
   "metadata": {},
   "outputs": [
    {
     "data": {
      "image/png": "[encoded data removed]",
      "text/plain": [
       "<Figure size 432x288 with 4 Axes>"
      ]
     },
     "execution_count": 100,
     "metadata": {},
     "output_type": "execute_result"
    },
    {
     "data": {
      "image/png": "[encoded data removed]",
      "text/plain": [
       "<Figure size 432x288 with 4 Axes>"
      ]
     },
     "metadata": {
      "needs_background": "light"
     },
     "output_type": "display_data"
    }
   ],
   "source": [
    "decomposition = seasonal_decompose(df_mum.log_priceMod, model = \"additive\",period = 1)\n",
    "decomposition.plot()"
   ]
  },
  {
   "cell_type": "code",
   "execution_count": 104,
   "id": "5cfc8db1",
   "metadata": {},
   "outputs": [],
   "source": [
    "trend = decomposition.trend\n",
    "seasonal = decomposition.seasonal\n",
    "residual = decomposition.resid"
   ]
  },
  {
   "cell_type": "markdown",
   "id": "c5f0e4c1",
   "metadata": {},
   "source": [
    "# Evaluating the Decomposition model using RMSE"
   ]
  },
  {
   "cell_type": "code",
   "execution_count": 105,
   "id": "fe9b5aea",
   "metadata": {},
   "outputs": [
    {
     "data": {
      "text/plain": [
       "5.441055131619e-13"
      ]
     },
     "execution_count": 105,
     "metadata": {},
     "output_type": "execute_result"
    }
   ],
   "source": [
    "df_mum[\"decomp_price\"] = np.exp(trend + seasonal)\n",
    "decomp_model_RMSE = RMSE(df_mum.priceMod, df_mum.decomp_price)\n",
    "decomp_model_RMSE"
   ]
  },
  {
   "cell_type": "markdown",
   "id": "26c26f3f",
   "metadata": {},
   "source": [
    "# ARIMA Model"
   ]
  },
  {
   "cell_type": "code",
   "execution_count": 106,
   "id": "de59c0d3",
   "metadata": {},
   "outputs": [],
   "source": [
    "ts = df_mum.log_priceMod\n",
    "ts_diff = df_mum.log_priceMod_diff\n",
    "ts_diff.dropna(inplace = True)"
   ]
  },
  {
   "cell_type": "code",
   "execution_count": 107,
   "id": "50e4a283",
   "metadata": {},
   "outputs": [
    {
     "data": {
      "text/plain": [
       "array([ 1.        , -0.54612312,  0.35974009, -0.48269918,  0.31064144,\n",
       "       -0.28581108,  0.25488628, -0.17927192,  0.20121241, -0.38328221,\n",
       "        0.23712336, -0.33378314,  0.65536578, -0.26709031,  0.18329631,\n",
       "       -0.31617105,  0.16054614, -0.14311553,  0.12853298, -0.08896203,\n",
       "        0.17512094])"
      ]
     },
     "execution_count": 107,
     "metadata": {},
     "output_type": "execute_result"
    }
   ],
   "source": [
    "#ACF and PACF plots:\n",
    "from statsmodels.tsa.stattools import acf, pacf\n",
    "lag_acf = acf(ts_diff, nlags=20)\n",
    "lag_acf"
   ]
  },
  {
   "cell_type": "markdown",
   "id": "468ddbc0",
   "metadata": {},
   "source": [
    "# ACF Plot"
   ]
  },
  {
   "cell_type": "code",
   "execution_count": 108,
   "id": "c8428fc9",
   "metadata": {},
   "outputs": [
    {
     "data": {
      "text/plain": [
       "<AxesSubplot:>"
      ]
     },
     "execution_count": 108,
     "metadata": {},
     "output_type": "execute_result"
    },
    {
     "data": {
      "image/png": "[encoded data removed]",
      "text/plain": [
       "<Figure size 432x288 with 1 Axes>"
      ]
     },
     "metadata": {
      "needs_background": "light"
     },
     "output_type": "display_data"
    }
   ],
   "source": [
    "ACF = pd.Series(lag_acf)\n",
    "ACF.plot(kind=\"bar\", color=\"red\")"
   ]
  },
  {
   "cell_type": "markdown",
   "id": "2f39fbce",
   "metadata": {},
   "source": [
    "# PACF Plot"
   ]
  },
  {
   "cell_type": "code",
   "execution_count": 109,
   "id": "ce094701",
   "metadata": {},
   "outputs": [
    {
     "data": {
      "text/plain": [
       "<AxesSubplot:>"
      ]
     },
     "execution_count": 109,
     "metadata": {},
     "output_type": "execute_result"
    },
    {
     "data": {
      "image/png": "[encoded data removed]",
      "text/plain": [
       "<Figure size 432x288 with 1 Axes>"
      ]
     },
     "metadata": {
      "needs_background": "light"
     },
     "output_type": "display_data"
    }
   ],
   "source": [
    "lag_pacf = pacf(ts_diff, nlags=20, method='ols')\n",
    "PACF = pd.Series(lag_pacf)\n",
    "PACF.plot(kind=\"bar\", color=\"red\")"
   ]
  },
  {
   "cell_type": "markdown",
   "id": "8b7fce36",
   "metadata": {},
   "source": [
    "# Exponential Smoothing "
   ]
  },
  {
   "cell_type": "code",
   "execution_count": 110,
   "id": "70e62b5f",
   "metadata": {},
   "outputs": [
    {
     "data": {
      "text/plain": [
       "<AxesSubplot:xlabel='date'>"
      ]
     },
     "execution_count": 110,
     "metadata": {},
     "output_type": "execute_result"
    },
    {
     "data": {
      "image/png": "[encoded data removed]",
      "text/plain": [
       "<Figure size 432x288 with 1 Axes>"
      ]
     },
     "metadata": {
      "needs_background": "light"
     },
     "output_type": "display_data"
    }
   ],
   "source": [
    "# smoothing the value using 12 month moving average\n",
    "df_mum[\"log_priceMod_MA12\"] = df_mum.log_priceMod.rolling(12).mean()\n",
    "df_mum.plot(kind=\"line\", y=[\"log_priceMod_MA12\", \"log_priceMod\"])"
   ]
  },
  {
   "cell_type": "code",
   "execution_count": null,
   "id": "97532829",
   "metadata": {},
   "outputs": [],
   "source": []
  }
 ],
 "metadata": {
  "kernelspec": {
   "display_name": "Python 3 (ipykernel)",
   "language": "python",
   "name": "python3"
  },
  "language_info": {
   "codemirror_mode": {
    "name": "ipython",
    "version": 3
   },
   "file_extension": ".py",
   "mimetype": "text/x-python",
   "name": "python",
   "nbconvert_exporter": "python",
   "pygments_lexer": "ipython3",
   "version": "3.9.7"
  }
 },
 "nbformat": 4,
 "nbformat_minor": 5
}
